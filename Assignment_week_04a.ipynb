{
 "cells": [
  {
   "cell_type": "markdown",
   "metadata": {},
   "source": [
    "# Week 04a Assignment weather data\n",
    "\n",
    "Welcome to week four of this course programming 1. Analyzing time related data such as estimating seasonal effect, or year effect might be a challenge. How to filter the essential information from the noise? How to apply signal analysis with noisy data. How to make compact useful visualizations? Python has several constructs to handle date time related data. The relevant classes for making plots are Locators and Formatters. Locators determine where the ticks are, and formatters control the formatting of tick labels. The relevant class for date time data is the pandas datetime data type, which has methods like resample and several possibilities to display data (frequencies). As a study case we will work with weather data. If you have data that fits the learning goals, you can bring your own data.\n",
    "\n",
    "Keywords: signal processing, smoothing, resample, formatters and locators, datetime object\n",
    "\n",
    "More to read: \n",
    "\n",
    "- https://fennaf.gitbook.io/bfvm22prog1/\n",
    "- https://machinelearningmastery.com/time-series-data-visualization-with-python/\n",
    "- https://towardsdatascience.com/how-to-plot-time-series-86b5358197d6\n",
    "- In the https://pandas.pydata.org/docs/reference/offset_frequency.html you can find more about frequencies and in the documentation\n",
    "- https://pandas.pydata.org/pandas-docs/stable/user_guide/timeseries.html you can read all the methods of this datetime object.\n",
    "- https://en.wikipedia.org/wiki/Smoothing\n",
    "\n",
    "\n",
    "Learning objectives\n",
    "\n",
    "- load, inspect and clean a dataset\n",
    "- reshape dataframes to group data in a certain frequency\n",
    "- apply smoothing technologies\n",
    "- Create useful visualisation with timeseries data\n",
    "- Maintain development environment \n",
    "- Apply coding standards and FAIR principles\n",
    "\n",
    "Please add topics you want to learn here: https://padlet.com/ffeenstra1/z9duo25d39dcgezz\n",
    "\n",
    "\n",
    "## Assignment\n",
    "\n",
    "You will to organise your data into the required format and apply smoothing. In this assignment we will work with weatherdata from the KNMI. A subset of weatherdata is for you available in the file: `KNMI_20181231`. The data consist of several stations with daily weather data of several years. Your task is to make a plot similar to the plot below. \n",
    "\n",
    "<img src=\"../images/weather.png\" alt=\"drawing\" width=\"400\"/>\n",
    "\n",
    "\n",
    "Furthermore the plot needs the following enhancements\n",
    "\n",
    "1. proper titles and ticks\n",
    "2. widgets selecting a particular year or all years\n",
    "3. lines need to be smoothed\n",
    "3. legends needs to be added\n",
    "\n",
    "Use your creativity. Consider colors, alpha settings, sizes etc. \n",
    "\n",
    "Learning outcomes\n",
    "\n",
    "- load, inspect and clean a dataset \n",
    "- reformat dataframes\n",
    "- apply smoothing technologies\n",
    "- visualize timeseries data\n",
    "\n",
    "The assignment consists of 6 parts:\n",
    "\n",
    "- [part 1: load the data](#0)\n",
    "- [part 2: clean the data](#1)\n",
    "- [part 3: reformat data](#2)\n",
    "- [part 4: smooth the data](#3)\n",
    "- [part 5: visualize the data](#4)\n",
    "- [part 6: Challenge](#5)\n",
    "\n",
    "Part 1 and 5 are mandatory, part 6 is optional (bonus)\n",
    "Mind you that you cannot copy code without referencing the code. If you copy code you need to be able to explain your code verbally and you will not get the full score. \n",
    "\n",
    "\n",
    "NB if you want to make a plot with more actual data you can download data from https://openweathermap.org/api \n"
   ]
  },
  {
   "cell_type": "markdown",
   "metadata": {},
   "source": [
    "---"
   ]
  },
  {
   "cell_type": "markdown",
   "metadata": {},
   "source": [
    "<a name='0'></a>\n",
    "## Part 1: Load the data\n",
    "\n",
    "Either load the dataset `KNMI_20181231.csv` or `KNMI_20181231.txt.tsv`. \n",
    "Preferably we read the data not with a hard coded data path but using a config file. See https://fennaf.gitbook.io/bfvm22prog1/data-processing/configuration-files/yaml. The dataheaders contain spaces and are not very self explainable. Change this into more readable ones. Select data from a station. Station 270 is in the neighborhood of Groningen. For our plot we only need the the mean, minimum and maximum temperature. Of course you are welcome to select other data if you think it might be useful for your visualization. The data should look something like this:\n"
   ]
  },
  {
   "cell_type": "code",
   "execution_count": 2,
   "metadata": {},
   "outputs": [],
   "source": [
    "import pandas as pd\n",
    "\n",
    "df = pd.read_csv('KNMI_20181231.txt.tsv', sep='\\t')\n",
    "\n",
    "df.rename(columns = {'# SOURCE: KONINKLIJK NEDERLANDS METEOROLOGISCH INSTITUUT (KNMI)':'values'}, inplace = True)\n",
    "#df = df[df['values'].str.contains('270')]\n",
    "df = pd.DataFrame([ x.split(',') for x in df['values'].tolist() ])\n",
    "df.rename(columns = {0: \"station\", 1: \"Date\", 2 : \"Tmean\", 3: \"Tmin\", 4: \"Tmax\" } ,inplace = True )\n",
    "df = df[~df[\"station\"].str.startswith('#')]\n",
    "df['station'] = df['station'].astype(\"int\")\n",
    "df = df[[\"station\",\"Date\",\"Tmean\",\"Tmin\",\"Tmax\"]]\n",
    "df = df[df[\"station\"] == 270]\n"
   ]
  },
  {
   "cell_type": "code",
   "execution_count": 3,
   "metadata": {},
   "outputs": [
    {
     "data": {
      "text/html": [
       "<div>\n",
       "<style scoped>\n",
       "    .dataframe tbody tr th:only-of-type {\n",
       "        vertical-align: middle;\n",
       "    }\n",
       "\n",
       "    .dataframe tbody tr th {\n",
       "        vertical-align: top;\n",
       "    }\n",
       "\n",
       "    .dataframe thead th {\n",
       "        text-align: right;\n",
       "    }\n",
       "</style>\n",
       "<table border=\"1\" class=\"dataframe\">\n",
       "  <thead>\n",
       "    <tr style=\"text-align: right;\">\n",
       "      <th></th>\n",
       "      <th>station</th>\n",
       "      <th>Date</th>\n",
       "      <th>Tmean</th>\n",
       "      <th>Tmin</th>\n",
       "      <th>Tmax</th>\n",
       "    </tr>\n",
       "  </thead>\n",
       "  <tbody>\n",
       "    <tr>\n",
       "      <th>97705</th>\n",
       "      <td>270</td>\n",
       "      <td>20000101</td>\n",
       "      <td>42</td>\n",
       "      <td>-4</td>\n",
       "      <td>79</td>\n",
       "    </tr>\n",
       "    <tr>\n",
       "      <th>97706</th>\n",
       "      <td>270</td>\n",
       "      <td>20000102</td>\n",
       "      <td>55</td>\n",
       "      <td>33</td>\n",
       "      <td>74</td>\n",
       "    </tr>\n",
       "    <tr>\n",
       "      <th>97707</th>\n",
       "      <td>270</td>\n",
       "      <td>20000103</td>\n",
       "      <td>74</td>\n",
       "      <td>49</td>\n",
       "      <td>89</td>\n",
       "    </tr>\n",
       "    <tr>\n",
       "      <th>97708</th>\n",
       "      <td>270</td>\n",
       "      <td>20000104</td>\n",
       "      <td>46</td>\n",
       "      <td>22</td>\n",
       "      <td>75</td>\n",
       "    </tr>\n",
       "    <tr>\n",
       "      <th>97709</th>\n",
       "      <td>270</td>\n",
       "      <td>20000105</td>\n",
       "      <td>41</td>\n",
       "      <td>14</td>\n",
       "      <td>56</td>\n",
       "    </tr>\n",
       "  </tbody>\n",
       "</table>\n",
       "</div>"
      ],
      "text/plain": [
       "       station      Date  Tmean   Tmin   Tmax\n",
       "97705      270  20000101     42     -4     79\n",
       "97706      270  20000102     55     33     74\n",
       "97707      270  20000103     74     49     89\n",
       "97708      270  20000104     46     22     75\n",
       "97709      270  20000105     41     14     56"
      ]
     },
     "execution_count": 3,
     "metadata": {},
     "output_type": "execute_result"
    }
   ],
   "source": [
    "df.head()"
   ]
  },
  {
   "cell_type": "raw",
   "metadata": {},
   "source": [
    "        station       Date  Tmean  Tmin  Tmax\n",
    "97641      270 2000-01-01   42.0  -4.0  79.0\n",
    "97642      270 2000-01-02   55.0  33.0  74.0\n",
    "97643      270 2000-01-03   74.0  49.0  89.0\n",
    "97644      270 2000-01-04   46.0  22.0  75.0\n",
    "97645      270 2000-01-05   41.0  14.0  56.0"
   ]
  },
  {
   "cell_type": "markdown",
   "metadata": {},
   "source": [
    "<a name='1'></a>\n",
    "## Part 2: Clean the data"
   ]
  },
  {
   "cell_type": "markdown",
   "metadata": {},
   "source": [
    "The data ia not clean. There are empty cells in the dataframe which needs to be replaced with NaN's and the temperature is in centidegrees which needs to be transformed into degrees. The date field needs a datetime format. For visualization convience we would like to remove the leap year. Conduct the cleaning."
   ]
  },
  {
   "cell_type": "code",
   "execution_count": 4,
   "metadata": {
    "scrolled": true
   },
   "outputs": [],
   "source": [
    "import numpy as np\n",
    "#replace cells with spaces to NaN\n",
    "df['Tmean'] = df['Tmean'].str.strip()\n",
    "df['Tmin'] = df['Tmin'].str.strip()\n",
    "df['Tmax'] =df['Tmax'].str.strip()\n",
    "df = df.replace('',np.nan)\n",
    "#change data formats && #remove leap year\n",
    "df = df [~df[\"Date\"].str.contains('-02-29')]\n",
    "df['Date'] = df['Date'].str.slice(0, 4) + \"-\" + df['Date'].str.slice(4, 6) +  \"-\" + df['Date'].str.slice(6, 8) \n",
    "df[\"Date\"] = pd.to_datetime(df[\"Date\"])\n",
    "#change temperatures to celcius degrees\n",
    "df['Tmean'] = df['Tmean'].astype(float)\n",
    "df['Tmin'] = df['Tmin'].astype(float)\n",
    "df['Tmax'] = df['Tmax'].astype(float)\n",
    "\n",
    "\n",
    "df['Tmean'] = [ x/10 for x in df['Tmean'].tolist() ]\n",
    "df['Tmin'] = [ x/10 for x in df['Tmin'].tolist() ]\n",
    "df['Tmax'] = [ x/10 for x in df['Tmax'].tolist() ]\n",
    "\n",
    "df = df.set_index(\"Date\")\n"
   ]
  },
  {
   "cell_type": "markdown",
   "metadata": {},
   "source": [
    "<details>    \n",
    "<summary>\n",
    "    <font size=\"3\" color=\"darkgreen\"><b>Hints</b></font>\n",
    "</summary>\n",
    "<ul><li>pd.to_datetime(df['Date'].astype(str), format='%Y%m%d')</li>\n",
    "    <li>regex for empty cells = `^\\s*$` </li>\n",
    "    <li>remove month == 2 & day == 29</li> \n",
    "</ul>\n",
    "</details>"
   ]
  },
  {
   "cell_type": "code",
   "execution_count": 5,
   "metadata": {},
   "outputs": [
    {
     "name": "stdout",
     "output_type": "stream",
     "text": [
      "<class 'pandas.core.frame.DataFrame'>\n",
      "DatetimeIndex: 6940 entries, 2000-01-01 to 2018-12-31\n",
      "Data columns (total 4 columns):\n",
      " #   Column   Non-Null Count  Dtype  \n",
      "---  ------   --------------  -----  \n",
      " 0   station  6940 non-null   int32  \n",
      " 1   Tmean    6940 non-null   float64\n",
      " 2   Tmin     6940 non-null   float64\n",
      " 3   Tmax     6940 non-null   float64\n",
      "dtypes: float64(3), int32(1)\n",
      "memory usage: 244.0 KB\n"
     ]
    }
   ],
   "source": [
    "#Test your outcome\n",
    "#write code to check if you have done the above\n",
    "df.info()"
   ]
  },
  {
   "cell_type": "markdown",
   "metadata": {},
   "source": [
    "### Expected outcome"
   ]
  },
  {
   "cell_type": "raw",
   "metadata": {},
   "source": [
    "DatetimeIndex: 24820 entries, 1951-01-01 to 2018-12-31\n",
    "Data columns (total 5 columns):\n",
    " #   Column   Non-Null Count  Dtype         \n",
    "---  ------   --------------  -----         \n",
    " 0   station  24820 non-null  int64         \n",
    " 1   Date     24820 non-null  datetime64[ns]\n",
    " 2   Tmean    24819 non-null  float64       \n",
    " 3   Tmin     24819 non-null  float64       \n",
    " 4   Tmax     24819 non-null  float64       \n",
    "dtypes: datetime64[ns](1), float64(3), int64(1)\n",
    "memory usage: 1.1 MB"
   ]
  },
  {
   "cell_type": "code",
   "execution_count": 6,
   "metadata": {},
   "outputs": [
    {
     "data": {
      "text/html": [
       "<div>\n",
       "<style scoped>\n",
       "    .dataframe tbody tr th:only-of-type {\n",
       "        vertical-align: middle;\n",
       "    }\n",
       "\n",
       "    .dataframe tbody tr th {\n",
       "        vertical-align: top;\n",
       "    }\n",
       "\n",
       "    .dataframe thead th {\n",
       "        text-align: right;\n",
       "    }\n",
       "</style>\n",
       "<table border=\"1\" class=\"dataframe\">\n",
       "  <thead>\n",
       "    <tr style=\"text-align: right;\">\n",
       "      <th></th>\n",
       "      <th>station</th>\n",
       "      <th>Tmean</th>\n",
       "      <th>Tmin</th>\n",
       "      <th>Tmax</th>\n",
       "    </tr>\n",
       "    <tr>\n",
       "      <th>Date</th>\n",
       "      <th></th>\n",
       "      <th></th>\n",
       "      <th></th>\n",
       "      <th></th>\n",
       "    </tr>\n",
       "  </thead>\n",
       "  <tbody>\n",
       "    <tr>\n",
       "      <th>2000-01-01</th>\n",
       "      <td>270</td>\n",
       "      <td>4.2</td>\n",
       "      <td>-0.4</td>\n",
       "      <td>7.9</td>\n",
       "    </tr>\n",
       "    <tr>\n",
       "      <th>2000-01-02</th>\n",
       "      <td>270</td>\n",
       "      <td>5.5</td>\n",
       "      <td>3.3</td>\n",
       "      <td>7.4</td>\n",
       "    </tr>\n",
       "    <tr>\n",
       "      <th>2000-01-03</th>\n",
       "      <td>270</td>\n",
       "      <td>7.4</td>\n",
       "      <td>4.9</td>\n",
       "      <td>8.9</td>\n",
       "    </tr>\n",
       "    <tr>\n",
       "      <th>2000-01-04</th>\n",
       "      <td>270</td>\n",
       "      <td>4.6</td>\n",
       "      <td>2.2</td>\n",
       "      <td>7.5</td>\n",
       "    </tr>\n",
       "    <tr>\n",
       "      <th>2000-01-05</th>\n",
       "      <td>270</td>\n",
       "      <td>4.1</td>\n",
       "      <td>1.4</td>\n",
       "      <td>5.6</td>\n",
       "    </tr>\n",
       "    <tr>\n",
       "      <th>...</th>\n",
       "      <td>...</td>\n",
       "      <td>...</td>\n",
       "      <td>...</td>\n",
       "      <td>...</td>\n",
       "    </tr>\n",
       "    <tr>\n",
       "      <th>2018-12-27</th>\n",
       "      <td>270</td>\n",
       "      <td>5.7</td>\n",
       "      <td>5.3</td>\n",
       "      <td>6.2</td>\n",
       "    </tr>\n",
       "    <tr>\n",
       "      <th>2018-12-28</th>\n",
       "      <td>270</td>\n",
       "      <td>7.1</td>\n",
       "      <td>5.8</td>\n",
       "      <td>8.1</td>\n",
       "    </tr>\n",
       "    <tr>\n",
       "      <th>2018-12-29</th>\n",
       "      <td>270</td>\n",
       "      <td>8.5</td>\n",
       "      <td>6.9</td>\n",
       "      <td>10.2</td>\n",
       "    </tr>\n",
       "    <tr>\n",
       "      <th>2018-12-30</th>\n",
       "      <td>270</td>\n",
       "      <td>8.0</td>\n",
       "      <td>6.8</td>\n",
       "      <td>9.0</td>\n",
       "    </tr>\n",
       "    <tr>\n",
       "      <th>2018-12-31</th>\n",
       "      <td>270</td>\n",
       "      <td>8.7</td>\n",
       "      <td>8.2</td>\n",
       "      <td>9.7</td>\n",
       "    </tr>\n",
       "  </tbody>\n",
       "</table>\n",
       "<p>6940 rows × 4 columns</p>\n",
       "</div>"
      ],
      "text/plain": [
       "            station  Tmean  Tmin  Tmax\n",
       "Date                                  \n",
       "2000-01-01      270    4.2  -0.4   7.9\n",
       "2000-01-02      270    5.5   3.3   7.4\n",
       "2000-01-03      270    7.4   4.9   8.9\n",
       "2000-01-04      270    4.6   2.2   7.5\n",
       "2000-01-05      270    4.1   1.4   5.6\n",
       "...             ...    ...   ...   ...\n",
       "2018-12-27      270    5.7   5.3   6.2\n",
       "2018-12-28      270    7.1   5.8   8.1\n",
       "2018-12-29      270    8.5   6.9  10.2\n",
       "2018-12-30      270    8.0   6.8   9.0\n",
       "2018-12-31      270    8.7   8.2   9.7\n",
       "\n",
       "[6940 rows x 4 columns]"
      ]
     },
     "execution_count": 6,
     "metadata": {},
     "output_type": "execute_result"
    }
   ],
   "source": [
    "df"
   ]
  },
  {
   "cell_type": "markdown",
   "metadata": {},
   "source": [
    "<a name='2'></a>\n",
    "## Part 3: Reform your data\n",
    "\n",
    "First we will split the data in data from 2018 and data before 2018. Best is to split this in two dataframes. \n",
    "Next we need for the non 2018 data the minimum values for each day and the maximum values for each day. So we look for the minimum value out of all january-01 minimum values (regardless the year). Create a dataframe with 365 days containing the ultimate minimum and the ultimate maximum per day. \n"
   ]
  },
  {
   "cell_type": "code",
   "execution_count": 7,
   "metadata": {},
   "outputs": [],
   "source": [
    "def month_day(df_multipleyears):\n",
    "    #your code to reform data here\n",
    "    df_groupedbymonthday = df_multipleyears.groupby([df_multipleyears.index.month,df_multipleyears.index.day]).agg(min_T=('Tmin', 'min'),max_T=('Tmax', 'max'))\n",
    "    # df_groupedbymonthday = df_multipleyears.groupby([df_multipleyears.index.month,df_multipleyears.index.day]).agg(min_T=('Tmin', 'min'))\n",
    "    print(df_groupedbymonthday)"
   ]
  },
  {
   "cell_type": "code",
   "execution_count": 8,
   "metadata": {},
   "outputs": [
    {
     "name": "stdout",
     "output_type": "stream",
     "text": [
      "           min_T  max_T\n",
      "Date Date              \n",
      "1    1      -5.8   11.1\n",
      "     2      -7.5   10.2\n",
      "     3     -12.6   10.7\n",
      "     4      -4.1    9.2\n",
      "     5      -6.0    8.4\n",
      "...          ...    ...\n",
      "12   27     -4.8   11.7\n",
      "     28     -4.2   10.9\n",
      "     29     -6.7   11.4\n",
      "     30    -10.2    9.5\n",
      "     31    -10.6   11.8\n",
      "\n",
      "[366 rows x 2 columns]\n"
     ]
    }
   ],
   "source": [
    "#Test your code\n",
    "def test_reformed(df):\n",
    "    #\n",
    "    df = df[(df.index.year > 2007) & (df.index.year < 2018)]\n",
    "    month_day(df)\n",
    "\n",
    "test_reformed(df)"
   ]
  },
  {
   "cell_type": "markdown",
   "metadata": {},
   "source": [
    "<details>    \n",
    "<summary>\n",
    "    <font size=\"3\" color=\"darkgreen\"><b>Hints</b></font>\n",
    "</summary>\n",
    "<ul><li>use the dt.month and dt.day to groupby</li>\n",
    "</ul>\n",
    "</details>"
   ]
  },
  {
   "cell_type": "markdown",
   "metadata": {},
   "source": [
    "### Expected outcome\n",
    "Note, the layout or names my differ, but the length should be 365 and the minimum values should be the same"
   ]
  },
  {
   "cell_type": "raw",
   "metadata": {},
   "source": [
    "month  day\n",
    "1      1      -5.8\n",
    "       2      -7.5\n",
    "       3     -12.6\n",
    "       4      -4.1\n",
    "       5      -6.0\n",
    "              ... \n",
    "12     27     -4.8\n",
    "       28     -4.2\n",
    "       29     -6.7\n",
    "       30    -10.2\n",
    "       31    -10.6\n",
    "Name: Tmin, Length: 365, dtype: float64"
   ]
  },
  {
   "cell_type": "markdown",
   "metadata": {},
   "source": [
    "<a name='3'></a>\n",
    "## Part 4: Smooth the data\n",
    "\n",
    "Make a function that takes an array or a dataframe column and returns an array of smoothed data. Explain in words why you choose a certain smoothing algoritm. Ask the signal analysis teacher if you want some advice.\n"
   ]
  },
  {
   "cell_type": "code",
   "execution_count": 12,
   "metadata": {},
   "outputs": [
    {
     "name": "stderr",
     "output_type": "stream",
     "text": [
      "c:\\Users\\Hamed\\anaconda3\\lib\\site-packages\\statsmodels\\tsa\\base\\tsa_model.py:471: ValueWarning: No frequency information was provided, so inferred frequency D will be used.\n",
      "  self._init_dates(dates, freq)\n",
      "c:\\Users\\Hamed\\anaconda3\\lib\\site-packages\\statsmodels\\tsa\\base\\tsa_model.py:471: ValueWarning: No frequency information was provided, so inferred frequency D will be used.\n",
      "  self._init_dates(dates, freq)\n"
     ]
    },
    {
     "data": {
      "text/html": [
       "\n",
       "  <div class=\"bk-root\" id=\"3ac513d2-9864-43f5-8136-f6d10791a761\" data-root-id=\"2301\"></div>\n"
      ]
     },
     "metadata": {},
     "output_type": "display_data"
    },
    {
     "data": {
      "application/javascript": "(function(root) {\n  function embed_document(root) {\n  const docs_json = {\"821889cc-bf8c-45c2-a1c6-31d04d7c8518\":{\"defs\":[{\"extends\":null,\"module\":null,\"name\":\"ReactiveHTML1\",\"overrides\":[],\"properties\":[]},{\"extends\":null,\"module\":null,\"name\":\"FlexBox1\",\"overrides\":[],\"properties\":[{\"default\":\"flex-start\",\"kind\":null,\"name\":\"align_content\"},{\"default\":\"flex-start\",\"kind\":null,\"name\":\"align_items\"},{\"default\":\"row\",\"kind\":null,\"name\":\"flex_direction\"},{\"default\":\"wrap\",\"kind\":null,\"name\":\"flex_wrap\"},{\"default\":\"flex-start\",\"kind\":null,\"name\":\"justify_content\"}]},{\"extends\":null,\"module\":null,\"name\":\"GridStack1\",\"overrides\":[],\"properties\":[{\"default\":\"warn\",\"kind\":null,\"name\":\"mode\"},{\"default\":null,\"kind\":null,\"name\":\"ncols\"},{\"default\":null,\"kind\":null,\"name\":\"nrows\"},{\"default\":true,\"kind\":null,\"name\":\"allow_resize\"},{\"default\":true,\"kind\":null,\"name\":\"allow_drag\"},{\"default\":[],\"kind\":null,\"name\":\"state\"}]},{\"extends\":null,\"module\":null,\"name\":\"click1\",\"overrides\":[],\"properties\":[{\"default\":\"\",\"kind\":null,\"name\":\"terminal_output\"},{\"default\":\"\",\"kind\":null,\"name\":\"debug_name\"},{\"default\":0,\"kind\":null,\"name\":\"clears\"}]},{\"extends\":null,\"module\":null,\"name\":\"NotificationAreaBase1\",\"overrides\":[],\"properties\":[{\"default\":\"bottom-right\",\"kind\":null,\"name\":\"position\"},{\"default\":0,\"kind\":null,\"name\":\"_clear\"}]},{\"extends\":null,\"module\":null,\"name\":\"NotificationArea1\",\"overrides\":[],\"properties\":[{\"default\":[],\"kind\":null,\"name\":\"notifications\"},{\"default\":\"bottom-right\",\"kind\":null,\"name\":\"position\"},{\"default\":0,\"kind\":null,\"name\":\"_clear\"},{\"default\":[{\"background\":\"#ffc107\",\"icon\":{\"className\":\"fas fa-exclamation-triangle\",\"color\":\"white\",\"tagName\":\"i\"},\"type\":\"warning\"},{\"background\":\"#007bff\",\"icon\":{\"className\":\"fas fa-info-circle\",\"color\":\"white\",\"tagName\":\"i\"},\"type\":\"info\"}],\"kind\":null,\"name\":\"types\"}]},{\"extends\":null,\"module\":null,\"name\":\"Notification\",\"overrides\":[],\"properties\":[{\"default\":null,\"kind\":null,\"name\":\"background\"},{\"default\":3000,\"kind\":null,\"name\":\"duration\"},{\"default\":null,\"kind\":null,\"name\":\"icon\"},{\"default\":\"\",\"kind\":null,\"name\":\"message\"},{\"default\":null,\"kind\":null,\"name\":\"notification_type\"},{\"default\":false,\"kind\":null,\"name\":\"_destroyed\"}]},{\"extends\":null,\"module\":null,\"name\":\"TemplateActions1\",\"overrides\":[],\"properties\":[{\"default\":0,\"kind\":null,\"name\":\"open_modal\"},{\"default\":0,\"kind\":null,\"name\":\"close_modal\"}]},{\"extends\":null,\"module\":null,\"name\":\"MaterialTemplateActions1\",\"overrides\":[],\"properties\":[{\"default\":0,\"kind\":null,\"name\":\"open_modal\"},{\"default\":0,\"kind\":null,\"name\":\"close_modal\"}]}],\"roots\":{\"references\":[{\"attributes\":{\"below\":[{\"id\":\"2310\"}],\"center\":[{\"id\":\"2313\"},{\"id\":\"2317\"},{\"id\":\"2361\"}],\"left\":[{\"id\":\"2314\"}],\"renderers\":[{\"id\":\"2336\"},{\"id\":\"2367\"},{\"id\":\"2399\"},{\"id\":\"2433\"}],\"sizing_mode\":\"stretch_width\",\"title\":{\"id\":\"2338\"},\"toolbar\":{\"id\":\"2325\"},\"toolbar_location\":\"below\",\"x_range\":{\"id\":\"2302\"},\"x_scale\":{\"id\":\"2306\"},\"y_range\":{\"id\":\"2304\"},\"y_scale\":{\"id\":\"2308\"}},\"id\":\"2301\",\"subtype\":\"Figure\",\"type\":\"Plot\"},{\"attributes\":{\"mantissas\":[1,2,5],\"max_interval\":500.0,\"num_minor_ticks\":0},\"id\":\"2349\",\"type\":\"AdaptiveTicker\"},{\"attributes\":{},\"id\":\"2302\",\"type\":\"DataRange1d\"},{\"attributes\":{},\"id\":\"2414\",\"type\":\"Selection\"},{\"attributes\":{\"line_alpha\":0.5,\"line_color\":\"yellow\",\"line_width\":2,\"x\":{\"field\":\"x\"},\"y\":{\"field\":\"y\"}},\"id\":\"2430\",\"type\":\"Line\"},{\"attributes\":{\"label\":{\"value\":\"Holt Smoothing Method\"},\"renderers\":[{\"id\":\"2433\"}]},\"id\":\"2464\",\"type\":\"LegendItem\"},{\"attributes\":{\"source\":{\"id\":\"2429\"}},\"id\":\"2434\",\"type\":\"CDSView\"},{\"attributes\":{\"line_alpha\":0.1,\"line_color\":\"blue\",\"line_width\":2,\"x\":{\"field\":\"x\"},\"y\":{\"field\":\"y\"}},\"id\":\"2334\",\"type\":\"Line\"},{\"attributes\":{\"line_alpha\":0.1,\"line_color\":\"yellow\",\"line_width\":2,\"x\":{\"field\":\"x\"},\"y\":{\"field\":\"y\"}},\"id\":\"2431\",\"type\":\"Line\"},{\"attributes\":{},\"id\":\"2380\",\"type\":\"Selection\"},{\"attributes\":{\"line_alpha\":0.5,\"line_color\":\"blue\",\"line_width\":2,\"x\":{\"field\":\"x\"},\"y\":{\"field\":\"y\"}},\"id\":\"2333\",\"type\":\"Line\"},{\"attributes\":{\"line_alpha\":0.5,\"line_color\":\"orange\",\"line_width\":2,\"x\":{\"field\":\"x\"},\"y\":{\"field\":\"y\"}},\"id\":\"2396\",\"type\":\"Line\"},{\"attributes\":{\"num_minor_ticks\":5,\"tickers\":[{\"id\":\"2349\"},{\"id\":\"2350\"},{\"id\":\"2351\"},{\"id\":\"2352\"},{\"id\":\"2353\"},{\"id\":\"2354\"},{\"id\":\"2355\"},{\"id\":\"2356\"},{\"id\":\"2357\"},{\"id\":\"2358\"},{\"id\":\"2359\"},{\"id\":\"2360\"}]},\"id\":\"2311\",\"type\":\"DatetimeTicker\"},{\"attributes\":{},\"id\":\"2345\",\"type\":\"AllLabels\"},{\"attributes\":{\"months\":[0,1,2,3,4,5,6,7,8,9,10,11]},\"id\":\"2356\",\"type\":\"MonthsTicker\"},{\"attributes\":{},\"id\":\"2304\",\"type\":\"DataRange1d\"},{\"attributes\":{\"line_alpha\":0.2,\"line_color\":\"yellow\",\"line_width\":2,\"x\":{\"field\":\"x\"},\"y\":{\"field\":\"y\"}},\"id\":\"2432\",\"type\":\"Line\"},{\"attributes\":{\"coordinates\":null,\"data_source\":{\"id\":\"2429\"},\"glyph\":{\"id\":\"2430\"},\"group\":null,\"hover_glyph\":null,\"muted_glyph\":{\"id\":\"2432\"},\"nonselection_glyph\":{\"id\":\"2431\"},\"view\":{\"id\":\"2434\"}},\"id\":\"2433\",\"type\":\"GlyphRenderer\"},{\"attributes\":{\"coordinates\":null,\"data_source\":{\"id\":\"2363\"},\"glyph\":{\"id\":\"2364\"},\"group\":null,\"hover_glyph\":null,\"muted_glyph\":{\"id\":\"2366\"},\"nonselection_glyph\":{\"id\":\"2365\"},\"view\":{\"id\":\"2368\"}},\"id\":\"2367\",\"type\":\"GlyphRenderer\"},{\"attributes\":{\"label\":{\"value\":\"Tmin\"},\"renderers\":[{\"id\":\"2336\"}]},\"id\":\"2362\",\"type\":\"LegendItem\"},{\"attributes\":{\"label\":{\"value\":\"Tmin_rolling\"},\"renderers\":[{\"id\":\"2367\"}]},\"id\":\"2394\",\"type\":\"LegendItem\"},{\"attributes\":{},\"id\":\"2449\",\"type\":\"UnionRenderers\"},{\"attributes\":{},\"id\":\"2450\",\"type\":\"Selection\"},{\"attributes\":{\"days\":[1,2,3,4,5,6,7,8,9,10,11,12,13,14,15,16,17,18,19,20,21,22,23,24,25,26,27,28,29,30,31]},\"id\":\"2352\",\"type\":\"DaysTicker\"},{\"attributes\":{},\"id\":\"2341\",\"type\":\"BasicTickFormatter\"},{\"attributes\":{\"base\":24,\"mantissas\":[1,2,4,6,8,12],\"max_interval\":43200000.0,\"min_interval\":3600000.0,\"num_minor_ticks\":0},\"id\":\"2351\",\"type\":\"AdaptiveTicker\"},{\"attributes\":{\"line_alpha\":0.1,\"line_color\":\"red\",\"line_width\":2,\"x\":{\"field\":\"x\"},\"y\":{\"field\":\"y\"}},\"id\":\"2365\",\"type\":\"Line\"},{\"attributes\":{\"coordinates\":null,\"group\":null,\"items\":[{\"id\":\"2362\"},{\"id\":\"2394\"},{\"id\":\"2428\"},{\"id\":\"2464\"}]},\"id\":\"2361\",\"type\":\"Legend\"},{\"attributes\":{\"line_alpha\":0.2,\"line_color\":\"red\",\"line_width\":2,\"x\":{\"field\":\"x\"},\"y\":{\"field\":\"y\"}},\"id\":\"2366\",\"type\":\"Line\"},{\"attributes\":{\"coordinates\":null,\"data_source\":{\"id\":\"2332\"},\"glyph\":{\"id\":\"2333\"},\"group\":null,\"hover_glyph\":null,\"muted_glyph\":{\"id\":\"2335\"},\"nonselection_glyph\":{\"id\":\"2334\"},\"view\":{\"id\":\"2337\"}},\"id\":\"2336\",\"type\":\"GlyphRenderer\"},{\"attributes\":{\"source\":{\"id\":\"2332\"}},\"id\":\"2337\",\"type\":\"CDSView\"},{\"attributes\":{},\"id\":\"2342\",\"type\":\"AllLabels\"},{\"attributes\":{\"data\":{\"x\":{\"__ndarray__\":\"AAAASfAKdkIAAMCuQgt2QgAAgBSVC3ZCAABAeucLdkIAAADgOQx2QgAAwEWMDHZCAACAq94MdkIAAEARMQ12QgAAAHeDDXZCAADA3NUNdkIAAIBCKA52QgAAQKh6DnZCAAAADs0OdkIAAMBzHw92QgAAgNlxD3ZCAABAP8QPdkIAAAClFhB2QgAAwAppEHZCAACAcLsQdkIAAEDWDRF2QgAAADxgEXZCAADAobIRdkIAAIAHBRJ2QgAAQG1XEnZCAAAA06kSdkIAAMA4/BJ2QgAAgJ5OE3ZCAABABKETdkIAAABq8xN2QgAAwM9FFHZCAACANZgUdkIAAECb6hR2QgAAAAE9FXZCAADAZo8VdkIAAIDM4RV2QgAAQDI0FnZCAAAAmIYWdkIAAMD92BZ2QgAAgGMrF3ZCAABAyX0XdkIAAAAv0Bd2QgAAwJQiGHZCAACA+nQYdkIAAEBgxxh2QgAAAMYZGXZCAADAK2wZdkIAAICRvhl2QgAAQPcQGnZCAAAAXWMadkIAAMDCtRp2QgAAgCgIG3ZCAABAjlobdkIAAAD0rBt2QgAAwFn/G3ZCAACAv1EcdkIAAEAlpBx2QgAAAIv2HHZCAADA8EgddkIAAIBWmx12QgAAQLztHXZCAAAAIkAedkIAAMCHkh52QgAAgO3kHnZCAABAUzcfdkIAAAC5iR92QgAAwB7cH3ZCAACAhC4gdkIAAEDqgCB2QgAAAFDTIHZCAADAtSUhdkIAAIAbeCF2QgAAQIHKIXZCAAAA5xwidkIAAMBMbyJ2QgAAgLLBInZCAABAGBQjdkIAAAB+ZiN2QgAAwOO4I3ZCAACASQskdkIAAECvXSR2QgAAABWwJHZCAADAegIldkIAAIDgVCV2QgAAQEanJXZCAAAArPkldkIAAMARTCZ2QgAAgHeeJnZCAABA3fAmdkIAAABDQyd2QgAAwKiVJ3ZCAACADugndkIAAEB0Oih2QgAAANqMKHZCAADAP98odkIAAIClMSl2QgAAQAuEKXZCAAAAcdYpdkIAAMDWKCp2QgAAgDx7KnZCAABAos0qdkIAAAAIICt2QgAAwG1yK3ZCAACA08QrdkIAAEA5Fyx2QgAAAJ9pLHZCAADABLwsdkIAAIBqDi12QgAAQNBgLXZCAAAANrMtdkIAAMCbBS52QgAAgAFYLnZCAABAZ6oudkIAAADN/C52QgAAwDJPL3ZCAACAmKEvdkIAAED+8y92QgAAAGRGMHZCAADAyZgwdkIAAIAv6zB2QgAAQJU9MXZCAAAA+48xdkIAAMBg4jF2QgAAgMY0MnZCAABALIcydkIAAACS2TJ2QgAAwPcrM3ZCAACAXX4zdkIAAEDD0DN2QgAAACkjNHZCAADAjnU0dkIAAID0xzR2QgAAQFoaNXZCAAAAwGw1dkIAAMAlvzV2QgAAgIsRNnZCAABA8WM2dkIAAABXtjZ2QgAAwLwIN3ZCAACAIls3dkIAAECIrTd2QgAAAO7/N3ZCAADAU1I4dkIAAIC5pDh2QgAAQB/3OHZCAAAAhUk5dkIAAMDqmzl2QgAAgFDuOXZCAABAtkA6dkIAAAAckzp2QgAAwIHlOnZCAACA5zc7dkIAAEBNijt2QgAAALPcO3ZCAADAGC88dkIAAIB+gTx2QgAAQOTTPHZCAAAASiY9dkIAAMCveD12QgAAgBXLPXZCAABAex0+dkIAAADhbz52QgAAwEbCPnZCAACArBQ/dkIAAEASZz92QgAAAHi5P3ZCAADA3QtAdkIAAIBDXkB2QgAAQKmwQHZCAAAADwNBdkIAAMB0VUF2QgAAgNqnQXZCAABAQPpBdkIAAACmTEJ2QgAAwAufQnZCAACAcfFCdkIAAEDXQ0N2QgAAAD2WQ3ZCAADAouhDdkIAAIAIO0R2QgAAQG6NRHZCAAAA1N9EdkIAAMA5MkV2QgAAgJ+ERXZCAABABddFdkIAAABrKUZ2QgAAwNB7RnZCAACANs5GdkIAAECcIEd2QgAAAAJzR3ZCAADAZ8VHdkIAAIDNF0h2QgAAQDNqSHZCAAAAmbxIdkIAAMD+Dkl2QgAAgGRhSXZCAABAyrNJdkIAAAAwBkp2QgAAwJVYSnZCAACA+6pKdkIAAEBh/Up2QgAAAMdPS3ZCAADALKJLdkIAAICS9Et2QgAAQPhGTHZCAAAAXplMdkIAAMDD60x2QgAAgCk+TXZCAABAj5BNdkIAAAD14k12QgAAwFo1TnZCAACAwIdOdkIAAEAm2k52QgAAAIwsT3ZCAADA8X5PdkIAAIBX0U92QgAAQL0jUHZCAAAAI3ZQdkIAAMCIyFB2QgAAgO4aUXZCAABAVG1RdkIAAAC6v1F2QgAAwB8SUnZCAACAhWRSdkIAAEDrtlJ2QgAAAFEJU3ZCAADAtltTdkIAAIAcrlN2QgAAQIIAVHZCAAAA6FJUdkIAAMBNpVR2QgAAgLP3VHZCAABAGUpVdkIAAAB/nFV2QgAAwOTuVXZCAACASkFWdkIAAECwk1Z2QgAAABbmVnZCAADAezhXdkIAAIDhild2QgAAQEfdV3ZCAAAArS9YdkIAAMASglh2QgAAgHjUWHZCAABA3iZZdkIAAABEeVl2QgAAwKnLWXZCAACADx5adkIAAEB1cFp2QgAAANvCWnZCAADAQBVbdkIAAICmZ1t2QgAAQAy6W3ZCAAAAcgxcdkIAAMDXXlx2QgAAgD2xXHZCAABAowNddkIAAAAJVl12QgAAwG6oXXZCAACA1PpddkIAAEA6TV52QgAAAKCfXnZCAADABfJedkIAAIBrRF92QgAAQNGWX3ZCAAAAN+lfdkIAAMCcO2B2QgAAgAKOYHZCAABAaOBgdkIAAADOMmF2QgAAwDOFYXZCAACAmddhdkIAAED/KWJ2QgAAAGV8YnZCAADAys5idkIAAIAwIWN2QgAAQJZzY3ZCAAAA/MVjdkIAAMBhGGR2QgAAgMdqZHZCAABALb1kdkIAAACTD2V2QgAAwPhhZXZCAACAXrRldkIAAEDEBmZ2QgAAACpZZnZCAADAj6tmdkIAAID1/WZ2QgAAQFtQZ3ZCAAAAwaJndkIAAMAm9Wd2QgAAgIxHaHZCAABA8plodkIAAABY7Gh2QgAAwL0+aXZCAACAI5FpdkIAAECJ42l2QgAAAO81anZCAADAVIhqdkIAAIC62mp2QgAAQCAta3ZCAAAAhn9rdkIAAMDr0Wt2QgAAgFEkbHZCAABAt3ZsdkIAAAAdyWx2QgAAwIIbbXZCAACA6G1tdkIAAEBOwG12QgAAALQSbnZCAADAGWVudkIAAIB/t252QgAAQOUJb3ZCAAAAS1xvdkIAAMCwrm92QgAAgBYBcHZCAABAfFNwdkIAAADipXB2QgAAwEf4cHZCAACArUpxdkIAAEATnXF2QgAAAHnvcXZCAADA3kFydkIAAIBElHJ2QgAAQKrmcnZCAAAAEDlzdkIAAMB1i3N2QgAAgNvdc3ZCAABAQTB0dkIAAACngnR2QgAAwAzVdHZCAACAcid1dkIAAEDYeXV2QgAAAD7MdXZCAADAox52dkIAAIAJcXZ2QgAAQG/DdnZCAAAA1RV3dkIAAMA6aHd2QgAAgKC6d3ZCAABABg14dkIAAABsX3h2QgAAwNGxeHZCAACANwR5dkIAAECdVnl2QgAAAAOpeXZCAADAaPt5dkIAAIDOTXp2QgAAQDSgenZCAAAAmvJ6dkIAAMD/RHt2QgAAgGWXe3ZCAABAy+l7dkIAAAAxPHx2QgAAwJaOfHZCAACA/OB8dkIAAEBiM312QgAAAMiFfXZCAADALdh9dkIAAICTKn52QgAAQPl8fnZCAAAAX89+dkIAAMDEIX92QgAAgCp0f3ZCAABAkMZ/dkIAAAD2GIB2Qg==\",\"dtype\":\"float64\",\"order\":\"little\",\"shape\":[365]},\"y\":{\"__ndarray__\":\"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\",\"dtype\":\"float64\",\"order\":\"little\",\"shape\":[365]}},\"selected\":{\"id\":\"2414\"},\"selection_policy\":{\"id\":\"2413\"}},\"id\":\"2395\",\"type\":\"ColumnDataSource\"},{\"attributes\":{},\"id\":\"2346\",\"type\":\"UnionRenderers\"},{\"attributes\":{\"axis\":{\"id\":\"2314\"},\"coordinates\":null,\"dimension\":1,\"group\":null,\"ticker\":null},\"id\":\"2317\",\"type\":\"Grid\"},{\"attributes\":{\"days\":[1,15]},\"id\":\"2355\",\"type\":\"DaysTicker\"},{\"attributes\":{\"coordinates\":null,\"formatter\":{\"id\":\"2341\"},\"group\":null,\"major_label_policy\":{\"id\":\"2342\"},\"ticker\":{\"id\":\"2315\"}},\"id\":\"2314\",\"type\":\"LinearAxis\"},{\"attributes\":{},\"id\":\"2323\",\"type\":\"HelpTool\"},{\"attributes\":{},\"id\":\"2308\",\"type\":\"LinearScale\"},{\"attributes\":{},\"id\":\"2379\",\"type\":\"UnionRenderers\"},{\"attributes\":{\"coordinates\":null,\"group\":null},\"id\":\"2338\",\"type\":\"Title\"},{\"attributes\":{\"source\":{\"id\":\"2363\"}},\"id\":\"2368\",\"type\":\"CDSView\"},{\"attributes\":{},\"id\":\"2315\",\"type\":\"BasicTicker\"},{\"attributes\":{\"data\":{\"x\":{\"__ndarray__\":\"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\",\"dtype\":\"float64\",\"order\":\"little\",\"shape\":[365]},\"y\":{\"__ndarray__\":\"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\",\"dtype\":\"float64\",\"order\":\"little\",\"shape\":[365]}},\"selected\":{\"id\":\"2380\"},\"selection_policy\":{\"id\":\"2379\"}},\"id\":\"2363\",\"type\":\"ColumnDataSource\"},{\"attributes\":{\"axis\":{\"id\":\"2310\"},\"coordinates\":null,\"group\":null,\"ticker\":null},\"id\":\"2313\",\"type\":\"Grid\"},{\"attributes\":{},\"id\":\"2347\",\"type\":\"Selection\"},{\"attributes\":{},\"id\":\"2413\",\"type\":\"UnionRenderers\"},{\"attributes\":{\"months\":[0,2,4,6,8,10]},\"id\":\"2357\",\"type\":\"MonthsTicker\"},{\"attributes\":{},\"id\":\"2360\",\"type\":\"YearsTicker\"},{\"attributes\":{},\"id\":\"2319\",\"type\":\"WheelZoomTool\"},{\"attributes\":{\"label\":{\"value\":\"Simple Exp Smoothing\"},\"renderers\":[{\"id\":\"2399\"}]},\"id\":\"2428\",\"type\":\"LegendItem\"},{\"attributes\":{\"months\":[0,4,8]},\"id\":\"2358\",\"type\":\"MonthsTicker\"},{\"attributes\":{\"tools\":[{\"id\":\"2318\"},{\"id\":\"2319\"},{\"id\":\"2320\"},{\"id\":\"2321\"},{\"id\":\"2322\"},{\"id\":\"2323\"}]},\"id\":\"2325\",\"type\":\"Toolbar\"},{\"attributes\":{\"data\":{\"x\":{\"__ndarray__\":\"AAAASfAKdkIAAMCuQgt2QgAAgBSVC3ZCAABAeucLdkIAAADgOQx2QgAAwEWMDHZCAACAq94MdkIAAEARMQ12QgAAAHeDDXZCAADA3NUNdkIAAIBCKA52QgAAQKh6DnZCAAAADs0OdkIAAMBzHw92QgAAgNlxD3ZCAABAP8QPdkIAAAClFhB2QgAAwAppEHZCAACAcLsQdkIAAEDWDRF2QgAAADxgEXZCAADAobIRdkIAAIAHBRJ2QgAAQG1XEnZCAAAA06kSdkIAAMA4/BJ2QgAAgJ5OE3ZCAABABKETdkIAAABq8xN2QgAAwM9FFHZCAACANZgUdkIAAECb6hR2QgAAAAE9FXZCAADAZo8VdkIAAIDM4RV2QgAAQDI0FnZCAAAAmIYWdkIAAMD92BZ2QgAAgGMrF3ZCAABAyX0XdkIAAAAv0Bd2QgAAwJQiGHZCAACA+nQYdkIAAEBgxxh2QgAAAMYZGXZCAADAK2wZdkIAAICRvhl2QgAAQPcQGnZCAAAAXWMadkIAAMDCtRp2QgAAgCgIG3ZCAABAjlobdkIAAAD0rBt2QgAAwFn/G3ZCAACAv1EcdkIAAEAlpBx2QgAAAIv2HHZCAADA8EgddkIAAIBWmx12QgAAQLztHXZCAAAAIkAedkIAAMCHkh52QgAAgO3kHnZCAABAUzcfdkIAAAC5iR92QgAAwB7cH3ZCAACAhC4gdkIAAEDqgCB2QgAAAFDTIHZCAADAtSUhdkIAAIAbeCF2QgAAQIHKIXZCAAAA5xwidkIAAMBMbyJ2QgAAgLLBInZCAABAGBQjdkIAAAB+ZiN2QgAAwOO4I3ZCAACASQskdkIAAECvXSR2QgAAABWwJHZCAADAegIldkIAAIDgVCV2QgAAQEanJXZCAAAArPkldkIAAMARTCZ2QgAAgHeeJnZCAABA3fAmdkIAAABDQyd2QgAAwKiVJ3ZCAACADugndkIAAEB0Oih2QgAAANqMKHZCAADAP98odkIAAIClMSl2QgAAQAuEKXZCAAAAcdYpdkIAAMDWKCp2QgAAgDx7KnZCAABAos0qdkIAAAAIICt2QgAAwG1yK3ZCAACA08QrdkIAAEA5Fyx2QgAAAJ9pLHZCAADABLwsdkIAAIBqDi12QgAAQNBgLXZCAAAANrMtdkIAAMCbBS52QgAAgAFYLnZCAABAZ6oudkIAAADN/C52QgAAwDJPL3ZCAACAmKEvdkIAAED+8y92QgAAAGRGMHZCAADAyZgwdkIAAIAv6zB2QgAAQJU9MXZCAAAA+48xdkIAAMBg4jF2QgAAgMY0MnZCAABALIcydkIAAACS2TJ2QgAAwPcrM3ZCAACAXX4zdkIAAEDD0DN2QgAAACkjNHZCAADAjnU0dkIAAID0xzR2QgAAQFoaNXZCAAAAwGw1dkIAAMAlvzV2QgAAgIsRNnZCAABA8WM2dkIAAABXtjZ2QgAAwLwIN3ZCAACAIls3dkIAAECIrTd2QgAAAO7/N3ZCAADAU1I4dkIAAIC5pDh2QgAAQB/3OHZCAAAAhUk5dkIAAMDqmzl2QgAAgFDuOXZCAABAtkA6dkIAAAAckzp2QgAAwIHlOnZCAACA5zc7dkIAAEBNijt2QgAAALPcO3ZCAADAGC88dkIAAIB+gTx2QgAAQOTTPHZCAAAASiY9dkIAAMCveD12QgAAgBXLPXZCAABAex0+dkIAAADhbz52QgAAwEbCPnZCAACArBQ/dkIAAEASZz92QgAAAHi5P3ZCAADA3QtAdkIAAIBDXkB2QgAAQKmwQHZCAAAADwNBdkIAAMB0VUF2QgAAgNqnQXZCAABAQPpBdkIAAACmTEJ2QgAAwAufQnZCAACAcfFCdkIAAEDXQ0N2QgAAAD2WQ3ZCAADAouhDdkIAAIAIO0R2QgAAQG6NRHZCAAAA1N9EdkIAAMA5MkV2QgAAgJ+ERXZCAABABddFdkIAAABrKUZ2QgAAwNB7RnZCAACANs5GdkIAAECcIEd2QgAAAAJzR3ZCAADAZ8VHdkIAAIDNF0h2QgAAQDNqSHZCAAAAmbxIdkIAAMD+Dkl2QgAAgGRhSXZCAABAyrNJdkIAAAAwBkp2QgAAwJVYSnZCAACA+6pKdkIAAEBh/Up2QgAAAMdPS3ZCAADALKJLdkIAAICS9Et2QgAAQPhGTHZCAAAAXplMdkIAAMDD60x2QgAAgCk+TXZCAABAj5BNdkIAAAD14k12QgAAwFo1TnZCAACAwIdOdkIAAEAm2k52QgAAAIwsT3ZCAADA8X5PdkIAAIBX0U92QgAAQL0jUHZCAAAAI3ZQdkIAAMCIyFB2QgAAgO4aUXZCAABAVG1RdkIAAAC6v1F2QgAAwB8SUnZCAACAhWRSdkIAAEDrtlJ2QgAAAFEJU3ZCAADAtltTdkIAAIAcrlN2QgAAQIIAVHZCAAAA6FJUdkIAAMBNpVR2QgAAgLP3VHZCAABAGUpVdkIAAAB/nFV2QgAAwOTuVXZCAACASkFWdkIAAECwk1Z2QgAAABbmVnZCAADAezhXdkIAAIDhild2QgAAQEfdV3ZCAAAArS9YdkIAAMASglh2QgAAgHjUWHZCAABA3iZZdkIAAABEeVl2QgAAwKnLWXZCAACADx5adkIAAEB1cFp2QgAAANvCWnZCAADAQBVbdkIAAICmZ1t2QgAAQAy6W3ZCAAAAcgxcdkIAAMDXXlx2QgAAgD2xXHZCAABAowNddkIAAAAJVl12QgAAwG6oXXZCAACA1PpddkIAAEA6TV52QgAAAKCfXnZCAADABfJedkIAAIBrRF92QgAAQNGWX3ZCAAAAN+lfdkIAAMCcO2B2QgAAgAKOYHZCAABAaOBgdkIAAADOMmF2QgAAwDOFYXZCAACAmddhdkIAAED/KWJ2QgAAAGV8YnZCAADAys5idkIAAIAwIWN2QgAAQJZzY3ZCAAAA/MVjdkIAAMBhGGR2QgAAgMdqZHZCAABALb1kdkIAAACTD2V2QgAAwPhhZXZCAACAXrRldkIAAEDEBmZ2QgAAACpZZnZCAADAj6tmdkIAAID1/WZ2QgAAQFtQZ3ZCAAAAwaJndkIAAMAm9Wd2QgAAgIxHaHZCAABA8plodkIAAABY7Gh2QgAAwL0+aXZCAACAI5FpdkIAAECJ42l2QgAAAO81anZCAADAVIhqdkIAAIC62mp2QgAAQCAta3ZCAAAAhn9rdkIAAMDr0Wt2QgAAgFEkbHZCAABAt3ZsdkIAAAAdyWx2QgAAwIIbbXZCAACA6G1tdkIAAEBOwG12QgAAALQSbnZCAADAGWVudkIAAIB/t252QgAAQOUJb3ZCAAAAS1xvdkIAAMCwrm92QgAAgBYBcHZCAABAfFNwdkIAAADipXB2QgAAwEf4cHZCAACArUpxdkIAAEATnXF2QgAAAHnvcXZCAADA3kFydkIAAIBElHJ2QgAAQKrmcnZCAAAAEDlzdkIAAMB1i3N2QgAAgNvdc3ZCAABAQTB0dkIAAACngnR2QgAAwAzVdHZCAACAcid1dkIAAEDYeXV2QgAAAD7MdXZCAADAox52dkIAAIAJcXZ2QgAAQG/DdnZCAAAA1RV3dkIAAMA6aHd2QgAAgKC6d3ZCAABABg14dkIAAABsX3h2QgAAwNGxeHZCAACANwR5dkIAAECdVnl2QgAAAAOpeXZCAADAaPt5dkIAAIDOTXp2QgAAQDSgenZCAAAAmvJ6dkIAAMD/RHt2QgAAgGWXe3ZCAABAy+l7dkIAAAAxPHx2QgAAwJaOfHZCAACA/OB8dkIAAEBiM312QgAAAMiFfXZCAADALdh9dkIAAICTKn52QgAAQPl8fnZCAAAAX89+dkIAAMDEIX92QgAAgCp0f3ZCAABAkMZ/dkIAAAD2GIB2Qg==\",\"dtype\":\"float64\",\"order\":\"little\",\"shape\":[365]},\"y\":{\"__ndarray__\":\"FYnQCVhCD0BkhYpXA/UPQJQTrfa1KQpAYmGluaLME0Ddlfifn6MWQBp5R2LsORFAcCCWSPAOAkC9sUURa9/svxYKq7xu+gDAPA8cJGZV9L+8s1tImUQHQKjMNYbdiA5A8rOAP+ToCUClsP5uYdMDQId5UkySu+M/jmw/mUDyvj8XGkW8d7MAQO485DD82fk/eTNb8T8e0z+ZUOp2QcDCP2U5gnll7Ne/2ugrmtVfrL8cET6PLhD1P2vuWzMkwBFA0B94rtA7GUCT9ppg1wATQN2hefOUAQRAJEwa+9h95j/zLsymMu4UQEEdPwmd4RNAsEreCZFYAkBgDc1lXdIBQG81BubPkPs/Rs6ep6Uu9j8ym5WQV33GPx3GvmJWZuY/K1KxVOUh+L9vTln72cgSwOqI45ZMrxfAfHKltbF+BcCT3DK7GuP5v9kdXO1gNvS/m4CXtTnw8j8qJepuImWtP4Hvuv7+num/n0aqjgRo/L9Tex4QkoPTv4S2x+u0UO6/gYtxOGOQC8DESHkdL/gBwFMEj8mHwQzAroJwfbyjEcDhrXEDZjEUwG/4mg1OmxfAxmz8X3KcE8BB93TsKpkQwFboClx3/hTAcnmB2vEaFsDAisLrJ5AhwOIFnv1l5iHArPsfB9YfIsBqnV6yXtkgwMtoNZjGmyHAE1mkvqYIFMCtCoFC3MfYv1+syJGQOvu/sRZw7MNLDcDnNND+l/bTv6kBTOzNJO4/UTyMy4rTEEBhHNtIQC0HQABm3uoENA1AXGgTEvL1DEDdh+jgvejUP3QP/PEG5PA/c97Jkxky6b961yeF/mMHwCP/gg8lgRDAJM/y83awEcAG/yxroQQEwAGy3gLHMwfA6KxQgeahA0B5p+oeSkIQQDOuh2KT8ghAXZpHK4kC6j/nlwsEj9eyP89YqYGcQwNAOC5U0PY+B0A+PsCkuKMGQIqs9y7ZygtAdlnBv5adE0COnH09JXwJQPnRB2BQJPE/sk7SS9HEG0AXIJki/VsaQHy/qtYCJ/w/QyP93ylH3z9FuEk+M8AWQFmuKLMmIxlA0c67Y2KTGEBwnE20YWgdQKuacO1/UhpA3OjoOQkhGEBqqDnW2v8cQOA9II61ew1A/Ayt/Od2EUDIyAFIm9oYQMydlHVMMhhA51XlrWlQIECliZnKGMcpQG3friNAwyFAY0iNbNLVFEA7MWk/x9IhQO7u+TggASFA7/T22AMpI0D8cLx7Cz4hQNnGhTk72x1AyJ3OIJm+GUDguULQ/EUeQJPWDsB/bx1AJ0M34mKyF0CwiQwTiQQWQI4x9shuyRBAqNAoC2qDEEC3dJatybf7P37+bBEK6ghA9jw56t8AFUA4uwqF+T8oQAQ0RN5JXipAap0GfOwgJ0BUjulf/6IeQJgKJh0N9xNAneGeXsMyJUDk6i0YMtonQMy+6QxGriZAkPfqGPmiJkDkmuMr+tgiQDLnPQOKsSBAvr6numFPIECAwykIKZsXQHC8N7pv+RdAxJ8XZqXCIkBgSHMoU/AlQAoIv00TVyZAkCfGl3OTJkDb0TxIpjEtQF1Ed24QQypAixr20gKzLEC7kC4sATApQJi2/wRY+S5ACSVhX8SCL0BGwNIEraUsQNrKajFSfipAxJJ5vDYVLEByljlmw4AuQOyZLA2qTSxAotzIl5m0IkDpCHt44g8dQPnB/nM9TyhAYrzqsDauLEBcUxcxyk4sQDm5VmZWcilAcN6MxSm0IUCcFEWmNrknQEUePvRDTShAtscwI0a/J0AenMlZkdMmQGj8OOL0USdABh5y7yS5KED9DKSoHfIqQGZDBRCNcy9AVcdslupxLkDIcbx+AIomQHjrFqXpdSVAbivoUXWVJkCS7bkfYkomQKngWqGWaiVAG4jhBy8VJkAoRDfFfwIoQP6XV59ytSZAI9wEyAFeIkAIQ1KZ17AmQEmnmh1qaypAXE19jzXyKEBCKA0ORXMhQE2dNHup8RxAdNLT9qauJEDH2gabTCElQGpL2XQ9aiJAIGYTwrk7JEDKKYgSXAkmQAdvb60ZiSVAI7yxVIfwJUA33TCXHFcmQOthW2OY7iRAD/7kbrclJ0AjYS7OGF0oQCm4kuZ0Ky5AMDs+biuPLUDfpWYSw4QoQCRLGzZTHShAAFYcY5FiJ0DpjfC48iguQHxVSps0kixA5nx3IAfPKkBxNQtK3h8wQAL1lpg1WTFALj7Z/dpRMUBLKOqKOGk2QBcLoZyvkzBAmEvfwOOYLUCZZrSz9nAxQJwRSlCUvS1A2yprRWcuK0C2TEAVEzEtQBT41iTgGCpAMmOJbpbVLEC4b8MJa7QpQFy/0hcRpClA+O4M5hF3KUBt6zJX9QwtQE5lS9bp3SxA+JkdLaQ3KUCiQ8XPeewmQIRIlIL+fChAx1sWrgoAMEC93PMkn9svQCBnmB3efTBA64+eD+YLL0CPczLrFb4rQIRc1nSdUStACB5XlnIWMEA8Jw/QQDsvQIW6uQNhBjBA8X3fvFOsMEAm/LSIttIrQD40kpZw6CVArDx3kD2DJUCKlUnD7vkiQF01kVkHnydAjkkxjWq8K0BDW+wC8K8oQEfoeYTaCCRAPQR2KIu9IEBelKP/hKYfQLgxyRcuvBlAXIiKJKCPJED8gcGJklcsQFAHpxhidyhAMcAM2DySKkAIOWFk04EmQEgAdcguvihAdOMBxYfvK0Cmr7DtwgIsQIwOcwHthytAV6M2CYa0JED2ukrvRCEcQD6HI5fPJCJAtxqZVr/QJkDoUxlddFEnQHLJAPn3jihAiHKISSDnK0BbbC7RIKYtQJtvhqVzITBAmz5S+2w0JkCkLOFd/RUkQMRgcsjquCJAiL9aCYZzGUARvQRWLKUXQCVEOjvaQyBAuOjXoQxRJkDhcsTVisUXQHoo0iEVYxRAbZ5L1PSzGUA31j1zpLAXQGWA9WEFQB1A+vKOHmtoIkCxmhA13gYnQBpAHI2MRR5ALsKwymrmE0DktGaYWQMVQO+HrXv30xhAzfKESuyBIkDz+zaCbWMYQByx3WUmviZAVGCODE1qK0BPx0FOg7YuQCdRMrGT/yxAiRaT+WzwJkCzZ60DN3opQFsc/cqipyVA+IP1El9tH0BOt3UxSAgNQD8y0cVbthRAaIarX/rPIUD05C+pqhIdQIlngjXZLyVABava2D4HJ0CEEaLvTu4hQMfPQKc41xhAfy5UQLqhEEB5N+aIiE/Uv5UPgOyn5Po/sEJd2LFdEEAc+U3MerYUQOshEDborR9AX0yMfPJvDkCWpNusWfkDQKuco7GWFQRADG/zwuPQAEAUfv7Xmo4YQJqv02k7fyFAl5HWUopUGkDHZ4266h0ZQPaRFhxrXiJAbQ9vJT3qHkCsDj4WO2sgQFLhAPrvSRlAprKOigPkG0BaXyG/WWcOQM2MyWIeav0/YSK9UeTe7z86CL+RLTz7v3hjg66XZAFA6mWM3AoZ+j8ElabSnbDuPw8y5V4lo/Y/Pw5NQ9rT6j99P6rqdsURwFYo20kbDATAAjFt6Iql4T+3rE34H6bgP4w11F/Ma9Y/rQHY5S70GEBwD8dvVToXQBa+rZ1WQxZAayZFxsr2IECf64Jp1MgbQCZTDG0pzP8/9ap8Kz8y/D/pa0tIrlAYQFQYFJL0ZhpAwB01OIrJGUDSh4dEwmoUQLArCtN9gBBAW5PCFHNS8r9dx1dh3LP+v+2uP/XPEfW/tfEdbhEHyD/B/dg1QbPxv1WpL7tznADA+Y6wksNA8z8tRnnRED4CQIrA3rKnGxJAghalmtwFFUBlShoVjS8XQBAyjXegjhhAZQGVw1uKE0A7y2S6Ko3pP1OSYe0JERBAzOkwhalUFEBvPqxP+RYVQCffCLBs3hZAmhOP12TNGkC17zLkdiwbQA==\",\"dtype\":\"float64\",\"order\":\"little\",\"shape\":[365]}},\"selected\":{\"id\":\"2450\"},\"selection_policy\":{\"id\":\"2449\"}},\"id\":\"2429\",\"type\":\"ColumnDataSource\"},{\"attributes\":{\"base\":60,\"mantissas\":[1,2,5,10,15,20,30],\"max_interval\":1800000.0,\"min_interval\":1000.0,\"num_minor_ticks\":0},\"id\":\"2350\",\"type\":\"AdaptiveTicker\"},{\"attributes\":{\"data\":{\"x\":{\"__ndarray__\":\"AAAASfAKdkIAAMCuQgt2QgAAgBSVC3ZCAABAeucLdkIAAADgOQx2QgAAwEWMDHZCAACAq94MdkIAAEARMQ12QgAAAHeDDXZCAADA3NUNdkIAAIBCKA52QgAAQKh6DnZCAAAADs0OdkIAAMBzHw92QgAAgNlxD3ZCAABAP8QPdkIAAAClFhB2QgAAwAppEHZCAACAcLsQdkIAAEDWDRF2QgAAADxgEXZCAADAobIRdkIAAIAHBRJ2QgAAQG1XEnZCAAAA06kSdkIAAMA4/BJ2QgAAgJ5OE3ZCAABABKETdkIAAABq8xN2QgAAwM9FFHZCAACANZgUdkIAAECb6hR2QgAAAAE9FXZCAADAZo8VdkIAAIDM4RV2QgAAQDI0FnZCAAAAmIYWdkIAAMD92BZ2QgAAgGMrF3ZCAABAyX0XdkIAAAAv0Bd2QgAAwJQiGHZCAACA+nQYdkIAAEBgxxh2QgAAAMYZGXZCAADAK2wZdkIAAICRvhl2QgAAQPcQGnZCAAAAXWMadkIAAMDCtRp2QgAAgCgIG3ZCAABAjlobdkIAAAD0rBt2QgAAwFn/G3ZCAACAv1EcdkIAAEAlpBx2QgAAAIv2HHZCAADA8EgddkIAAIBWmx12QgAAQLztHXZCAAAAIkAedkIAAMCHkh52QgAAgO3kHnZCAABAUzcfdkIAAAC5iR92QgAAwB7cH3ZCAACAhC4gdkIAAEDqgCB2QgAAAFDTIHZCAADAtSUhdkIAAIAbeCF2QgAAQIHKIXZCAAAA5xwidkIAAMBMbyJ2QgAAgLLBInZCAABAGBQjdkIAAAB+ZiN2QgAAwOO4I3ZCAACASQskdkIAAECvXSR2QgAAABWwJHZCAADAegIldkIAAIDgVCV2QgAAQEanJXZCAAAArPkldkIAAMARTCZ2QgAAgHeeJnZCAABA3fAmdkIAAABDQyd2QgAAwKiVJ3ZCAACADugndkIAAEB0Oih2QgAAANqMKHZCAADAP98odkIAAIClMSl2QgAAQAuEKXZCAAAAcdYpdkIAAMDWKCp2QgAAgDx7KnZCAABAos0qdkIAAAAIICt2QgAAwG1yK3ZCAACA08QrdkIAAEA5Fyx2QgAAAJ9pLHZCAADABLwsdkIAAIBqDi12QgAAQNBgLXZCAAAANrMtdkIAAMCbBS52QgAAgAFYLnZCAABAZ6oudkIAAADN/C52QgAAwDJPL3ZCAACAmKEvdkIAAED+8y92QgAAAGRGMHZCAADAyZgwdkIAAIAv6zB2QgAAQJU9MXZCAAAA+48xdkIAAMBg4jF2QgAAgMY0MnZCAABALIcydkIAAACS2TJ2QgAAwPcrM3ZCAACAXX4zdkIAAEDD0DN2QgAAACkjNHZCAADAjnU0dkIAAID0xzR2QgAAQFoaNXZCAAAAwGw1dkIAAMAlvzV2QgAAgIsRNnZCAABA8WM2dkIAAABXtjZ2QgAAwLwIN3ZCAACAIls3dkIAAECIrTd2QgAAAO7/N3ZCAADAU1I4dkIAAIC5pDh2QgAAQB/3OHZCAAAAhUk5dkIAAMDqmzl2QgAAgFDuOXZCAABAtkA6dkIAAAAckzp2QgAAwIHlOnZCAACA5zc7dkIAAEBNijt2QgAAALPcO3ZCAADAGC88dkIAAIB+gTx2QgAAQOTTPHZCAAAASiY9dkIAAMCveD12QgAAgBXLPXZCAABAex0+dkIAAADhbz52QgAAwEbCPnZCAACArBQ/dkIAAEASZz92QgAAAHi5P3ZCAADA3QtAdkIAAIBDXkB2QgAAQKmwQHZCAAAADwNBdkIAAMB0VUF2QgAAgNqnQXZCAABAQPpBdkIAAACmTEJ2QgAAwAufQnZCAACAcfFCdkIAAEDXQ0N2QgAAAD2WQ3ZCAADAouhDdkIAAIAIO0R2QgAAQG6NRHZCAAAA1N9EdkIAAMA5MkV2QgAAgJ+ERXZCAABABddFdkIAAABrKUZ2QgAAwNB7RnZCAACANs5GdkIAAECcIEd2QgAAAAJzR3ZCAADAZ8VHdkIAAIDNF0h2QgAAQDNqSHZCAAAAmbxIdkIAAMD+Dkl2QgAAgGRhSXZCAABAyrNJdkIAAAAwBkp2QgAAwJVYSnZCAACA+6pKdkIAAEBh/Up2QgAAAMdPS3ZCAADALKJLdkIAAICS9Et2QgAAQPhGTHZCAAAAXplMdkIAAMDD60x2QgAAgCk+TXZCAABAj5BNdkIAAAD14k12QgAAwFo1TnZCAACAwIdOdkIAAEAm2k52QgAAAIwsT3ZCAADA8X5PdkIAAIBX0U92QgAAQL0jUHZCAAAAI3ZQdkIAAMCIyFB2QgAAgO4aUXZCAABAVG1RdkIAAAC6v1F2QgAAwB8SUnZCAACAhWRSdkIAAEDrtlJ2QgAAAFEJU3ZCAADAtltTdkIAAIAcrlN2QgAAQIIAVHZCAAAA6FJUdkIAAMBNpVR2QgAAgLP3VHZCAABAGUpVdkIAAAB/nFV2QgAAwOTuVXZCAACASkFWdkIAAECwk1Z2QgAAABbmVnZCAADAezhXdkIAAIDhild2QgAAQEfdV3ZCAAAArS9YdkIAAMASglh2QgAAgHjUWHZCAABA3iZZdkIAAABEeVl2QgAAwKnLWXZCAACADx5adkIAAEB1cFp2QgAAANvCWnZCAADAQBVbdkIAAICmZ1t2QgAAQAy6W3ZCAAAAcgxcdkIAAMDXXlx2QgAAgD2xXHZCAABAowNddkIAAAAJVl12QgAAwG6oXXZCAACA1PpddkIAAEA6TV52QgAAAKCfXnZCAADABfJedkIAAIBrRF92QgAAQNGWX3ZCAAAAN+lfdkIAAMCcO2B2QgAAgAKOYHZCAABAaOBgdkIAAADOMmF2QgAAwDOFYXZCAACAmddhdkIAAED/KWJ2QgAAAGV8YnZCAADAys5idkIAAIAwIWN2QgAAQJZzY3ZCAAAA/MVjdkIAAMBhGGR2QgAAgMdqZHZCAABALb1kdkIAAACTD2V2QgAAwPhhZXZCAACAXrRldkIAAEDEBmZ2QgAAACpZZnZCAADAj6tmdkIAAID1/WZ2QgAAQFtQZ3ZCAAAAwaJndkIAAMAm9Wd2QgAAgIxHaHZCAABA8plodkIAAABY7Gh2QgAAwL0+aXZCAACAI5FpdkIAAECJ42l2QgAAAO81anZCAADAVIhqdkIAAIC62mp2QgAAQCAta3ZCAAAAhn9rdkIAAMDr0Wt2QgAAgFEkbHZCAABAt3ZsdkIAAAAdyWx2QgAAwIIbbXZCAACA6G1tdkIAAEBOwG12QgAAALQSbnZCAADAGWVudkIAAIB/t252QgAAQOUJb3ZCAAAAS1xvdkIAAMCwrm92QgAAgBYBcHZCAABAfFNwdkIAAADipXB2QgAAwEf4cHZCAACArUpxdkIAAEATnXF2QgAAAHnvcXZCAADA3kFydkIAAIBElHJ2QgAAQKrmcnZCAAAAEDlzdkIAAMB1i3N2QgAAgNvdc3ZCAABAQTB0dkIAAACngnR2QgAAwAzVdHZCAACAcid1dkIAAEDYeXV2QgAAAD7MdXZCAADAox52dkIAAIAJcXZ2QgAAQG/DdnZCAAAA1RV3dkIAAMA6aHd2QgAAgKC6d3ZCAABABg14dkIAAABsX3h2QgAAwNGxeHZCAACANwR5dkIAAECdVnl2QgAAAAOpeXZCAADAaPt5dkIAAIDOTXp2QgAAQDSgenZCAAAAmvJ6dkIAAMD/RHt2QgAAgGWXe3ZCAABAy+l7dkIAAAAxPHx2QgAAwJaOfHZCAACA/OB8dkIAAEBiM312QgAAAMiFfXZCAADALdh9dkIAAICTKn52QgAAQPl8fnZCAAAAX89+dkIAAMDEIX92QgAAgCp0f3ZCAABAkMZ/dkIAAAD2GIB2Qg==\",\"dtype\":\"float64\",\"order\":\"little\",\"shape\":[365]},\"y\":{\"__ndarray__\":\"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\",\"dtype\":\"float64\",\"order\":\"little\",\"shape\":[365]}},\"selected\":{\"id\":\"2347\"},\"selection_policy\":{\"id\":\"2346\"}},\"id\":\"2332\",\"type\":\"ColumnDataSource\"},{\"attributes\":{\"line_alpha\":0.1,\"line_color\":\"orange\",\"line_width\":2,\"x\":{\"field\":\"x\"},\"y\":{\"field\":\"y\"}},\"id\":\"2397\",\"type\":\"Line\"},{\"attributes\":{\"months\":[0,6]},\"id\":\"2359\",\"type\":\"MonthsTicker\"},{\"attributes\":{\"line_alpha\":0.5,\"line_color\":\"red\",\"line_width\":2,\"x\":{\"field\":\"x\"},\"y\":{\"field\":\"y\"}},\"id\":\"2364\",\"type\":\"Line\"},{\"attributes\":{\"overlay\":{\"id\":\"2324\"}},\"id\":\"2320\",\"type\":\"BoxZoomTool\"},{\"attributes\":{\"line_alpha\":0.2,\"line_color\":\"blue\",\"line_width\":2,\"x\":{\"field\":\"x\"},\"y\":{\"field\":\"y\"}},\"id\":\"2335\",\"type\":\"Line\"},{\"attributes\":{},\"id\":\"2322\",\"type\":\"ResetTool\"},{\"attributes\":{},\"id\":\"2344\",\"type\":\"DatetimeTickFormatter\"},{\"attributes\":{\"days\":[1,4,7,10,13,16,19,22,25,28]},\"id\":\"2353\",\"type\":\"DaysTicker\"},{\"attributes\":{\"line_alpha\":0.2,\"line_color\":\"orange\",\"line_width\":2,\"x\":{\"field\":\"x\"},\"y\":{\"field\":\"y\"}},\"id\":\"2398\",\"type\":\"Line\"},{\"attributes\":{\"days\":[1,8,15,22]},\"id\":\"2354\",\"type\":\"DaysTicker\"},{\"attributes\":{\"coordinates\":null,\"formatter\":{\"id\":\"2344\"},\"group\":null,\"major_label_policy\":{\"id\":\"2345\"},\"ticker\":{\"id\":\"2311\"}},\"id\":\"2310\",\"type\":\"DatetimeAxis\"},{\"attributes\":{\"source\":{\"id\":\"2395\"}},\"id\":\"2400\",\"type\":\"CDSView\"},{\"attributes\":{},\"id\":\"2306\",\"type\":\"LinearScale\"},{\"attributes\":{\"bottom_units\":\"screen\",\"coordinates\":null,\"fill_alpha\":0.5,\"fill_color\":\"lightgrey\",\"group\":null,\"left_units\":\"screen\",\"level\":\"overlay\",\"line_alpha\":1.0,\"line_color\":\"black\",\"line_dash\":[4,4],\"line_width\":2,\"right_units\":\"screen\",\"syncable\":false,\"top_units\":\"screen\"},\"id\":\"2324\",\"type\":\"BoxAnnotation\"},{\"attributes\":{},\"id\":\"2318\",\"type\":\"PanTool\"},{\"attributes\":{},\"id\":\"2321\",\"type\":\"SaveTool\"},{\"attributes\":{\"coordinates\":null,\"data_source\":{\"id\":\"2395\"},\"glyph\":{\"id\":\"2396\"},\"group\":null,\"hover_glyph\":null,\"muted_glyph\":{\"id\":\"2398\"},\"nonselection_glyph\":{\"id\":\"2397\"},\"view\":{\"id\":\"2400\"}},\"id\":\"2399\",\"type\":\"GlyphRenderer\"}],\"root_ids\":[\"2301\"]},\"title\":\"Bokeh Application\",\"version\":\"2.4.3\"}};\n  const render_items = [{\"docid\":\"821889cc-bf8c-45c2-a1c6-31d04d7c8518\",\"root_ids\":[\"2301\"],\"roots\":{\"2301\":\"3ac513d2-9864-43f5-8136-f6d10791a761\"}}];\n  root.Bokeh.embed.embed_items_notebook(docs_json, render_items);\n  }\n  if (root.Bokeh !== undefined) {\n    embed_document(root);\n  } else {\n    let attempts = 0;\n    const timer = setInterval(function(root) {\n      if (root.Bokeh !== undefined) {\n        clearInterval(timer);\n        embed_document(root);\n      } else {\n        attempts++;\n        if (attempts > 100) {\n          clearInterval(timer);\n          console.log(\"Bokeh: ERROR: Unable to run BokehJS code because BokehJS library is missing\");\n        }\n      }\n    }, 10, root)\n  }\n})(window);",
      "application/vnd.bokehjs_exec.v0+json": ""
     },
     "metadata": {
      "application/vnd.bokehjs_exec.v0+json": {
       "id": "2301"
      }
     },
     "output_type": "display_data"
    }
   ],
   "source": [
    "#your code here\n",
    "#your motivation here\n",
    "import pandas as pd\n",
    "import numpy as np\n",
    "import panel as pn\n",
    "import os\n",
    "import re\n",
    "import yaml\n",
    "from bokeh.io import output_notebook\n",
    "from bokeh.plotting import figure, show\n",
    "from bokeh.models import Band, ColumnDataSource\n",
    "from statsmodels.tsa.api import ExponentialSmoothing, SimpleExpSmoothing, Holt\n",
    "df = df[df.index.year== 2018]\n",
    "\n",
    "df['Tmin_rolling'] = df['Tmin'].rolling(5).mean()\n",
    "df2 = df['Tmin']\n",
    "#df['Tmin_rolling'] = df['Tmin'].rolling(7).mean()\n",
    "fit1 = SimpleExpSmoothing(df2,initialization_method=\"heuristic\").fit(smoothing_level=0.2, optimized= False)\n",
    "#expSmoothing = SimpleExpSmoothing(df).fit(smoothing_level=0.1, optimized=False)\n",
    "fit2 = Holt(df2).fit()\n",
    "\n",
    "p = figure(sizing_mode=\"stretch_width\",toolbar_location=\"below\" ,x_axis_type=\"datetime\")\n",
    "p.line(df.index, df[\"Tmin\"],legend_label=\"Tmin\", line_width=2, color=\"blue\", alpha=0.5)\n",
    "p.line(df.index, df[\"Tmin_rolling\"],legend_label=\"Tmin_rolling\", line_width=2, color=\"red\", alpha=0.5)\n",
    "p.line(df.index, fit1.fittedvalues,legend_label=\"Simple Exp Smoothing\", line_width=2, color=\"orange\", alpha=0.5)\n",
    "p.line(df.index, fit2.fittedvalues,legend_label=\"Holt Smoothing Method\", line_width=2, color=\"yellow\", alpha=0.5)\n",
    "p.legend.location = \"top_right\"\n",
    "show(p)\n"
   ]
  },
  {
   "cell_type": "markdown",
   "metadata": {},
   "source": [
    "---"
   ]
  },
  {
   "cell_type": "markdown",
   "metadata": {},
   "source": [
    "<a name='4'></a>\n",
    "## Part 5: Visualize the data"
   ]
  },
  {
   "cell_type": "markdown",
   "metadata": {},
   "source": [
    "Plot the mean temperature of the year 2018. Create a shaded band with the ultimate minimum values and the ultimate maximum values from the multi-year dataset. Add labels, titles and legends. Use proper ranges. Be creative to make the plot attractive. \n",
    "\n"
   ]
  },
  {
   "cell_type": "markdown",
   "metadata": {},
   "source": [
    "<details>    \n",
    "<summary>\n",
    "    <font size=\"3\" color=\"darkgreen\"><b>Hints</b></font>\n",
    "</summary>\n",
    "<ul><li>use from bokeh.models import Band</li>\n",
    "    <li>use ColumnDataSource to parse data arrays</li>\n",
    "    <li>look for xaxis tick formatters</li>\n",
    "</ul>\n",
    "</details>"
   ]
  },
  {
   "cell_type": "markdown",
   "metadata": {},
   "source": [
    "---"
   ]
  },
  {
   "cell_type": "code",
   "execution_count": 11,
   "metadata": {},
   "outputs": [
    {
     "data": {
      "application/javascript": "(function(root) {\n  function now() {\n    return new Date();\n  }\n\n  var force = true;\n\n  if (typeof root._bokeh_onload_callbacks === \"undefined\" || force === true) {\n    root._bokeh_onload_callbacks = [];\n    root._bokeh_is_loading = undefined;\n  }\n\n  if (typeof (root._bokeh_timeout) === \"undefined\" || force === true) {\n    root._bokeh_timeout = Date.now() + 5000;\n    root._bokeh_failed_load = false;\n  }\n\n  function run_callbacks() {\n    try {\n      root._bokeh_onload_callbacks.forEach(function(callback) {\n        if (callback != null)\n          callback();\n      });\n    } finally {\n      delete root._bokeh_onload_callbacks\n    }\n    console.debug(\"Bokeh: all callbacks have finished\");\n  }\n\n  function load_libs(css_urls, js_urls, js_modules, callback) {\n    if (css_urls == null) css_urls = [];\n    if (js_urls == null) js_urls = [];\n    if (js_modules == null) js_modules = [];\n\n    root._bokeh_onload_callbacks.push(callback);\n    if (root._bokeh_is_loading > 0) {\n      console.debug(\"Bokeh: BokehJS is being loaded, scheduling callback at\", now());\n      return null;\n    }\n    if (js_urls.length === 0 && js_modules.length === 0) {\n      run_callbacks();\n      return null;\n    }\n    console.debug(\"Bokeh: BokehJS not loaded, scheduling load and callback at\", now());\n\n    function on_load() {\n      root._bokeh_is_loading--;\n      if (root._bokeh_is_loading === 0) {\n        console.debug(\"Bokeh: all BokehJS libraries/stylesheets loaded\");\n        run_callbacks()\n      }\n    }\n\n    function on_error() {\n      console.error(\"failed to load \" + url);\n    }\n\n    for (var i = 0; i < css_urls.length; i++) {\n      var url = css_urls[i];\n      const element = document.createElement(\"link\");\n      element.onload = on_load;\n      element.onerror = on_error;\n      element.rel = \"stylesheet\";\n      element.type = \"text/css\";\n      element.href = url;\n      console.debug(\"Bokeh: injecting link tag for BokehJS stylesheet: \", url);\n      document.body.appendChild(element);\n    }\n\n    var skip = [];\n    if (window.requirejs) {\n      window.requirejs.config({'packages': {}, 'paths': {'gridstack': 'https://cdn.jsdelivr.net/npm/gridstack@4.2.5/dist/gridstack-h5', 'notyf': 'https://cdn.jsdelivr.net/npm/notyf@3/notyf.min'}, 'shim': {'gridstack': {'exports': 'GridStack'}}});\n      require([\"gridstack\"], function(GridStack) {\n\twindow.GridStack = GridStack\n\ton_load()\n      })\n      require([\"notyf\"], function() {\n\ton_load()\n      })\n      root._bokeh_is_loading = css_urls.length + 2;\n    } else {\n      root._bokeh_is_loading = css_urls.length + js_urls.length + js_modules.length;\n    }    if (((window['GridStack'] !== undefined) && (!(window['GridStack'] instanceof HTMLElement))) || window.requirejs) {\n      var urls = ['https://cdn.jsdelivr.net/npm/gridstack@4.2.5/dist/gridstack-h5.js'];\n      for (var i = 0; i < urls.length; i++) {\n        skip.push(urls[i])\n      }\n    }    if (((window['Notyf'] !== undefined) && (!(window['Notyf'] instanceof HTMLElement))) || window.requirejs) {\n      var urls = ['https://cdn.jsdelivr.net/npm/notyf@3/notyf.min.js'];\n      for (var i = 0; i < urls.length; i++) {\n        skip.push(urls[i])\n      }\n    }    for (var i = 0; i < js_urls.length; i++) {\n      var url = js_urls[i];\n      if (skip.indexOf(url) >= 0) {\n\tif (!window.requirejs) {\n\t  on_load();\n\t}\n\tcontinue;\n      }\n      var element = document.createElement('script');\n      element.onload = on_load;\n      element.onerror = on_error;\n      element.async = false;\n      element.src = url;\n      console.debug(\"Bokeh: injecting script tag for BokehJS library: \", url);\n      document.head.appendChild(element);\n    }\n    for (var i = 0; i < js_modules.length; i++) {\n      var url = js_modules[i];\n      if (skip.indexOf(url) >= 0) {\n\tif (!window.requirejs) {\n\t  on_load();\n\t}\n\tcontinue;\n      }\n      var element = document.createElement('script');\n      element.onload = on_load;\n      element.onerror = on_error;\n      element.async = false;\n      element.src = url;\n      element.type = \"module\";\n      console.debug(\"Bokeh: injecting script tag for BokehJS library: \", url);\n      document.head.appendChild(element);\n    }\n    if (!js_urls.length && !js_modules.length) {\n      on_load()\n    }\n  };\n\n  function inject_raw_css(css) {\n    const element = document.createElement(\"style\");\n    element.appendChild(document.createTextNode(css));\n    document.body.appendChild(element);\n  }\n\n  var js_urls = [\"https://cdn.bokeh.org/bokeh/release/bokeh-2.4.3.min.js\", \"https://cdn.bokeh.org/bokeh/release/bokeh-gl-2.4.3.min.js\", \"https://cdn.bokeh.org/bokeh/release/bokeh-widgets-2.4.3.min.js\", \"https://cdn.bokeh.org/bokeh/release/bokeh-tables-2.4.3.min.js\", \"https://cdn.bokeh.org/bokeh/release/bokeh-mathjax-2.4.3.min.js\", \"https://cdn.jsdelivr.net/npm/notyf@3/notyf.min.js\", \"https://unpkg.com/@holoviz/panel@0.13.1/dist/panel.min.js\"];\n  var js_modules = [];\n  var css_urls = [\"https://cdn.jsdelivr.net/npm/notyf@3/notyf.min.css\", \"https://cdnjs.cloudflare.com/ajax/libs/font-awesome/5.15.1/css/all.min.css\", \"https://unpkg.com/@holoviz/panel@0.13.1/dist/css/alerts.css\", \"https://unpkg.com/@holoviz/panel@0.13.1/dist/css/card.css\", \"https://unpkg.com/@holoviz/panel@0.13.1/dist/css/dataframe.css\", \"https://unpkg.com/@holoviz/panel@0.13.1/dist/css/debugger.css\", \"https://unpkg.com/@holoviz/panel@0.13.1/dist/css/json.css\", \"https://unpkg.com/@holoviz/panel@0.13.1/dist/css/loading.css\", \"https://unpkg.com/@holoviz/panel@0.13.1/dist/css/markdown.css\", \"https://unpkg.com/@holoviz/panel@0.13.1/dist/css/widgets.css\"];\n  var inline_js = [    function(Bokeh) {\n      inject_raw_css(\"\\n    .bk.pn-loading.arcs:before {\\n      background-image: url(\\\"data:image/svg+xml;base64,PHN2ZyB4bWxucz0iaHR0cDovL3d3dy53My5vcmcvMjAwMC9zdmciIHhtbG5zOnhsaW5rPSJodHRwOi8vd3d3LnczLm9yZy8xOTk5L3hsaW5rIiBzdHlsZT0ibWFyZ2luOiBhdXRvOyBiYWNrZ3JvdW5kOiBub25lOyBkaXNwbGF5OiBibG9jazsgc2hhcGUtcmVuZGVyaW5nOiBhdXRvOyIgdmlld0JveD0iMCAwIDEwMCAxMDAiIHByZXNlcnZlQXNwZWN0UmF0aW89InhNaWRZTWlkIj4gIDxjaXJjbGUgY3g9IjUwIiBjeT0iNTAiIHI9IjMyIiBzdHJva2Utd2lkdGg9IjgiIHN0cm9rZT0iI2MzYzNjMyIgc3Ryb2tlLWRhc2hhcnJheT0iNTAuMjY1NDgyNDU3NDM2NjkgNTAuMjY1NDgyNDU3NDM2NjkiIGZpbGw9Im5vbmUiIHN0cm9rZS1saW5lY2FwPSJyb3VuZCI+ICAgIDxhbmltYXRlVHJhbnNmb3JtIGF0dHJpYnV0ZU5hbWU9InRyYW5zZm9ybSIgdHlwZT0icm90YXRlIiByZXBlYXRDb3VudD0iaW5kZWZpbml0ZSIgZHVyPSIxcyIga2V5VGltZXM9IjA7MSIgdmFsdWVzPSIwIDUwIDUwOzM2MCA1MCA1MCI+PC9hbmltYXRlVHJhbnNmb3JtPiAgPC9jaXJjbGU+PC9zdmc+\\\");\\n      background-size: auto calc(min(50%, 400px));\\n    }\\n    \");\n    },    function(Bokeh) {\n      Bokeh.set_log_level(\"info\");\n    },\nfunction(Bokeh) {} // ensure no trailing comma for IE\n  ];\n\n  function run_inline_js() {\n    if ((root.Bokeh !== undefined) || (force === true)) {\n      for (var i = 0; i < inline_js.length; i++) {\n        inline_js[i].call(root, root.Bokeh);\n      }} else if (Date.now() < root._bokeh_timeout) {\n      setTimeout(run_inline_js, 100);\n    } else if (!root._bokeh_failed_load) {\n      console.log(\"Bokeh: BokehJS failed to load within specified timeout.\");\n      root._bokeh_failed_load = true;\n    }\n  }\n\n  if (root._bokeh_is_loading === 0) {\n    console.debug(\"Bokeh: BokehJS loaded, going straight to plotting\");\n    run_inline_js();\n  } else {\n    load_libs(css_urls, js_urls, js_modules, function() {\n      console.debug(\"Bokeh: BokehJS plotting callback run at\", now());\n      run_inline_js();\n    });\n  }\n}(window));",
      "application/vnd.holoviews_load.v0+json": ""
     },
     "metadata": {},
     "output_type": "display_data"
    },
    {
     "data": {
      "application/javascript": "\nif ((window.PyViz === undefined) || (window.PyViz instanceof HTMLElement)) {\n  window.PyViz = {comms: {}, comm_status:{}, kernels:{}, receivers: {}, plot_index: []}\n}\n\n\n    function JupyterCommManager() {\n    }\n\n    JupyterCommManager.prototype.register_target = function(plot_id, comm_id, msg_handler) {\n      if (window.comm_manager || ((window.Jupyter !== undefined) && (Jupyter.notebook.kernel != null))) {\n        var comm_manager = window.comm_manager || Jupyter.notebook.kernel.comm_manager;\n        comm_manager.register_target(comm_id, function(comm) {\n          comm.on_msg(msg_handler);\n        });\n      } else if ((plot_id in window.PyViz.kernels) && (window.PyViz.kernels[plot_id])) {\n        window.PyViz.kernels[plot_id].registerCommTarget(comm_id, function(comm) {\n          comm.onMsg = msg_handler;\n        });\n      } else if (typeof google != 'undefined' && google.colab.kernel != null) {\n        google.colab.kernel.comms.registerTarget(comm_id, (comm) => {\n          var messages = comm.messages[Symbol.asyncIterator]();\n          function processIteratorResult(result) {\n            var message = result.value;\n            console.log(message)\n            var content = {data: message.data, comm_id};\n            var buffers = []\n            for (var buffer of message.buffers || []) {\n              buffers.push(new DataView(buffer))\n            }\n            var metadata = message.metadata || {};\n            var msg = {content, buffers, metadata}\n            msg_handler(msg);\n            return messages.next().then(processIteratorResult);\n          }\n          return messages.next().then(processIteratorResult);\n        })\n      }\n    }\n\n    JupyterCommManager.prototype.get_client_comm = function(plot_id, comm_id, msg_handler) {\n      if (comm_id in window.PyViz.comms) {\n        return window.PyViz.comms[comm_id];\n      } else if (window.comm_manager || ((window.Jupyter !== undefined) && (Jupyter.notebook.kernel != null))) {\n        var comm_manager = window.comm_manager || Jupyter.notebook.kernel.comm_manager;\n        var comm = comm_manager.new_comm(comm_id, {}, {}, {}, comm_id);\n        if (msg_handler) {\n          comm.on_msg(msg_handler);\n        }\n      } else if ((plot_id in window.PyViz.kernels) && (window.PyViz.kernels[plot_id])) {\n        var comm = window.PyViz.kernels[plot_id].connectToComm(comm_id);\n        comm.open();\n        if (msg_handler) {\n          comm.onMsg = msg_handler;\n        }\n      } else if (typeof google != 'undefined' && google.colab.kernel != null) {\n        var comm_promise = google.colab.kernel.comms.open(comm_id)\n        comm_promise.then((comm) => {\n          window.PyViz.comms[comm_id] = comm;\n          if (msg_handler) {\n            var messages = comm.messages[Symbol.asyncIterator]();\n            function processIteratorResult(result) {\n              var message = result.value;\n              var content = {data: message.data};\n              var metadata = message.metadata || {comm_id};\n              var msg = {content, metadata}\n              msg_handler(msg);\n              return messages.next().then(processIteratorResult);\n            }\n            return messages.next().then(processIteratorResult);\n          }\n        }) \n        var sendClosure = (data, metadata, buffers, disposeOnDone) => {\n          return comm_promise.then((comm) => {\n            comm.send(data, metadata, buffers, disposeOnDone);\n          });\n        };\n        var comm = {\n          send: sendClosure\n        };\n      }\n      window.PyViz.comms[comm_id] = comm;\n      return comm;\n    }\n    window.PyViz.comm_manager = new JupyterCommManager();\n    \n\n\nvar JS_MIME_TYPE = 'application/javascript';\nvar HTML_MIME_TYPE = 'text/html';\nvar EXEC_MIME_TYPE = 'application/vnd.holoviews_exec.v0+json';\nvar CLASS_NAME = 'output';\n\n/**\n * Render data to the DOM node\n */\nfunction render(props, node) {\n  var div = document.createElement(\"div\");\n  var script = document.createElement(\"script\");\n  node.appendChild(div);\n  node.appendChild(script);\n}\n\n/**\n * Handle when a new output is added\n */\nfunction handle_add_output(event, handle) {\n  var output_area = handle.output_area;\n  var output = handle.output;\n  if ((output.data == undefined) || (!output.data.hasOwnProperty(EXEC_MIME_TYPE))) {\n    return\n  }\n  var id = output.metadata[EXEC_MIME_TYPE][\"id\"];\n  var toinsert = output_area.element.find(\".\" + CLASS_NAME.split(' ')[0]);\n  if (id !== undefined) {\n    var nchildren = toinsert.length;\n    var html_node = toinsert[nchildren-1].children[0];\n    html_node.innerHTML = output.data[HTML_MIME_TYPE];\n    var scripts = [];\n    var nodelist = html_node.querySelectorAll(\"script\");\n    for (var i in nodelist) {\n      if (nodelist.hasOwnProperty(i)) {\n        scripts.push(nodelist[i])\n      }\n    }\n\n    scripts.forEach( function (oldScript) {\n      var newScript = document.createElement(\"script\");\n      var attrs = [];\n      var nodemap = oldScript.attributes;\n      for (var j in nodemap) {\n        if (nodemap.hasOwnProperty(j)) {\n          attrs.push(nodemap[j])\n        }\n      }\n      attrs.forEach(function(attr) { newScript.setAttribute(attr.name, attr.value) });\n      newScript.appendChild(document.createTextNode(oldScript.innerHTML));\n      oldScript.parentNode.replaceChild(newScript, oldScript);\n    });\n    if (JS_MIME_TYPE in output.data) {\n      toinsert[nchildren-1].children[1].textContent = output.data[JS_MIME_TYPE];\n    }\n    output_area._hv_plot_id = id;\n    if ((window.Bokeh !== undefined) && (id in Bokeh.index)) {\n      window.PyViz.plot_index[id] = Bokeh.index[id];\n    } else {\n      window.PyViz.plot_index[id] = null;\n    }\n  } else if (output.metadata[EXEC_MIME_TYPE][\"server_id\"] !== undefined) {\n    var bk_div = document.createElement(\"div\");\n    bk_div.innerHTML = output.data[HTML_MIME_TYPE];\n    var script_attrs = bk_div.children[0].attributes;\n    for (var i = 0; i < script_attrs.length; i++) {\n      toinsert[toinsert.length - 1].childNodes[1].setAttribute(script_attrs[i].name, script_attrs[i].value);\n    }\n    // store reference to server id on output_area\n    output_area._bokeh_server_id = output.metadata[EXEC_MIME_TYPE][\"server_id\"];\n  }\n}\n\n/**\n * Handle when an output is cleared or removed\n */\nfunction handle_clear_output(event, handle) {\n  var id = handle.cell.output_area._hv_plot_id;\n  var server_id = handle.cell.output_area._bokeh_server_id;\n  if (((id === undefined) || !(id in PyViz.plot_index)) && (server_id !== undefined)) { return; }\n  var comm = window.PyViz.comm_manager.get_client_comm(\"hv-extension-comm\", \"hv-extension-comm\", function () {});\n  if (server_id !== null) {\n    comm.send({event_type: 'server_delete', 'id': server_id});\n    return;\n  } else if (comm !== null) {\n    comm.send({event_type: 'delete', 'id': id});\n  }\n  delete PyViz.plot_index[id];\n  if ((window.Bokeh !== undefined) & (id in window.Bokeh.index)) {\n    var doc = window.Bokeh.index[id].model.document\n    doc.clear();\n    const i = window.Bokeh.documents.indexOf(doc);\n    if (i > -1) {\n      window.Bokeh.documents.splice(i, 1);\n    }\n  }\n}\n\n/**\n * Handle kernel restart event\n */\nfunction handle_kernel_cleanup(event, handle) {\n  delete PyViz.comms[\"hv-extension-comm\"];\n  window.PyViz.plot_index = {}\n}\n\n/**\n * Handle update_display_data messages\n */\nfunction handle_update_output(event, handle) {\n  handle_clear_output(event, {cell: {output_area: handle.output_area}})\n  handle_add_output(event, handle)\n}\n\nfunction register_renderer(events, OutputArea) {\n  function append_mime(data, metadata, element) {\n    // create a DOM node to render to\n    var toinsert = this.create_output_subarea(\n    metadata,\n    CLASS_NAME,\n    EXEC_MIME_TYPE\n    );\n    this.keyboard_manager.register_events(toinsert);\n    // Render to node\n    var props = {data: data, metadata: metadata[EXEC_MIME_TYPE]};\n    render(props, toinsert[0]);\n    element.append(toinsert);\n    return toinsert\n  }\n\n  events.on('output_added.OutputArea', handle_add_output);\n  events.on('output_updated.OutputArea', handle_update_output);\n  events.on('clear_output.CodeCell', handle_clear_output);\n  events.on('delete.Cell', handle_clear_output);\n  events.on('kernel_ready.Kernel', handle_kernel_cleanup);\n\n  OutputArea.prototype.register_mime_type(EXEC_MIME_TYPE, append_mime, {\n    safe: true,\n    index: 0\n  });\n}\n\nif (window.Jupyter !== undefined) {\n  try {\n    var events = require('base/js/events');\n    var OutputArea = require('notebook/js/outputarea').OutputArea;\n    if (OutputArea.prototype.mime_types().indexOf(EXEC_MIME_TYPE) == -1) {\n      register_renderer(events, OutputArea);\n    }\n  } catch(err) {\n  }\n}\n",
      "application/vnd.holoviews_load.v0+json": ""
     },
     "metadata": {},
     "output_type": "display_data"
    },
    {
     "data": {
      "text/html": [
       "<style>.bk-root, .bk-root .bk:before, .bk-root .bk:after {\n",
       "  font-family: var(--jp-ui-font-size1);\n",
       "  font-size: var(--jp-ui-font-size1);\n",
       "  color: var(--jp-ui-font-color1);\n",
       "}\n",
       "</style>"
      ]
     },
     "metadata": {},
     "output_type": "display_data"
    },
    {
     "data": {
      "text/html": [
       "\n",
       "  <div class=\"bk-root\" id=\"f305e095-5b0d-4b2d-a2c3-5ec858fb9129\" data-root-id=\"2087\"></div>\n"
      ]
     },
     "metadata": {},
     "output_type": "display_data"
    },
    {
     "data": {
      "application/javascript": "(function(root) {\n  function embed_document(root) {\n  const docs_json = {\"af255ed0-e44e-4c3d-b758-3484c6bea772\":{\"defs\":[{\"extends\":null,\"module\":null,\"name\":\"ReactiveHTML1\",\"overrides\":[],\"properties\":[]},{\"extends\":null,\"module\":null,\"name\":\"FlexBox1\",\"overrides\":[],\"properties\":[{\"default\":\"flex-start\",\"kind\":null,\"name\":\"align_content\"},{\"default\":\"flex-start\",\"kind\":null,\"name\":\"align_items\"},{\"default\":\"row\",\"kind\":null,\"name\":\"flex_direction\"},{\"default\":\"wrap\",\"kind\":null,\"name\":\"flex_wrap\"},{\"default\":\"flex-start\",\"kind\":null,\"name\":\"justify_content\"}]},{\"extends\":null,\"module\":null,\"name\":\"GridStack1\",\"overrides\":[],\"properties\":[{\"default\":\"warn\",\"kind\":null,\"name\":\"mode\"},{\"default\":null,\"kind\":null,\"name\":\"ncols\"},{\"default\":null,\"kind\":null,\"name\":\"nrows\"},{\"default\":true,\"kind\":null,\"name\":\"allow_resize\"},{\"default\":true,\"kind\":null,\"name\":\"allow_drag\"},{\"default\":[],\"kind\":null,\"name\":\"state\"}]},{\"extends\":null,\"module\":null,\"name\":\"click1\",\"overrides\":[],\"properties\":[{\"default\":\"\",\"kind\":null,\"name\":\"terminal_output\"},{\"default\":\"\",\"kind\":null,\"name\":\"debug_name\"},{\"default\":0,\"kind\":null,\"name\":\"clears\"}]},{\"extends\":null,\"module\":null,\"name\":\"NotificationAreaBase1\",\"overrides\":[],\"properties\":[{\"default\":\"bottom-right\",\"kind\":null,\"name\":\"position\"},{\"default\":0,\"kind\":null,\"name\":\"_clear\"}]},{\"extends\":null,\"module\":null,\"name\":\"NotificationArea1\",\"overrides\":[],\"properties\":[{\"default\":[],\"kind\":null,\"name\":\"notifications\"},{\"default\":\"bottom-right\",\"kind\":null,\"name\":\"position\"},{\"default\":0,\"kind\":null,\"name\":\"_clear\"},{\"default\":[{\"background\":\"#ffc107\",\"icon\":{\"className\":\"fas fa-exclamation-triangle\",\"color\":\"white\",\"tagName\":\"i\"},\"type\":\"warning\"},{\"background\":\"#007bff\",\"icon\":{\"className\":\"fas fa-info-circle\",\"color\":\"white\",\"tagName\":\"i\"},\"type\":\"info\"}],\"kind\":null,\"name\":\"types\"}]},{\"extends\":null,\"module\":null,\"name\":\"Notification\",\"overrides\":[],\"properties\":[{\"default\":null,\"kind\":null,\"name\":\"background\"},{\"default\":3000,\"kind\":null,\"name\":\"duration\"},{\"default\":null,\"kind\":null,\"name\":\"icon\"},{\"default\":\"\",\"kind\":null,\"name\":\"message\"},{\"default\":null,\"kind\":null,\"name\":\"notification_type\"},{\"default\":false,\"kind\":null,\"name\":\"_destroyed\"}]},{\"extends\":null,\"module\":null,\"name\":\"TemplateActions1\",\"overrides\":[],\"properties\":[{\"default\":0,\"kind\":null,\"name\":\"open_modal\"},{\"default\":0,\"kind\":null,\"name\":\"close_modal\"}]},{\"extends\":null,\"module\":null,\"name\":\"MaterialTemplateActions1\",\"overrides\":[],\"properties\":[{\"default\":0,\"kind\":null,\"name\":\"open_modal\"},{\"default\":0,\"kind\":null,\"name\":\"close_modal\"}]}],\"roots\":{\"references\":[{\"attributes\":{\"below\":[{\"id\":\"2096\"}],\"center\":[{\"id\":\"2099\"},{\"id\":\"2103\"},{\"id\":\"2147\"},{\"id\":\"2149\"}],\"left\":[{\"id\":\"2100\"}],\"renderers\":[{\"id\":\"2122\"}],\"sizing_mode\":\"stretch_width\",\"title\":{\"id\":\"2124\"},\"toolbar\":{\"id\":\"2111\"},\"toolbar_location\":\"below\",\"x_range\":{\"id\":\"2088\"},\"x_scale\":{\"id\":\"2092\"},\"y_range\":{\"id\":\"2090\"},\"y_scale\":{\"id\":\"2094\"}},\"id\":\"2087\",\"subtype\":\"Figure\",\"type\":\"Plot\"},{\"attributes\":{\"data\":{\"Date\":{\"__ndarray__\":\"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\",\"dtype\":\"float64\",\"order\":\"little\",\"shape\":[365]},\"Tmax\":{\"__ndarray__\":\"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\",\"dtype\":\"float64\",\"order\":\"little\",\"shape\":[365]},\"Tmean\":{\"__ndarray__\":\"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\",\"dtype\":\"float64\",\"order\":\"little\",\"shape\":[365]},\"Tmin\":{\"__ndarray__\":\"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\",\"dtype\":\"float64\",\"order\":\"little\",\"shape\":[365]},\"Tmin_rolling\":{\"__ndarray__\":\"AAAAAAAA+H8AAAAAAAD4fwAAAAAAAPh/AAAAAAAA+H/C9Shcj8IRQAAAAAAAABBAehSuR+F6CEBSuB6F61H4P+pRuB6F68E/k5mZmZmZuT9G4XoUrkfhP61H4XoUrvc/XI/C9ShcA0BwPQrXo3AFQLgehetRuP4/61G4HoXr+T/NzMzMzMz0P+B6FK5H4eo/PQrXo3A96j8K16NwPQrnPypcj8L1KMw/uh6F61G4zj8pXI/C9Sj0P6RwPQrXowRAexSuR+F6DECuR+F6FK4PQJqZmZmZmQ1AXY/C9ShcD0B7FK5H4XoMQClcj8L1KAhAexSuR+F6CECQwvUoXI8KQLkehetRuAJAcT0K16Nw9T+QwvUoXI/yP3sUrkfhetQ/SOF6FK5H8b+kcD0K16MEwK5H4XoUrgfAMzMzMzMzC8DtUbgehesJwB6F61G4Hv2/16NwPQrX47/gehSuR+Hav0fhehSuR+G/MjMzMzMz07+F61G4HoXrv+tRuB6F6/m/HoXrUbge/b+amZmZmZkBwPYoXI/C9QjAhetRuB6FD8BxPQrXo3ARwJqZmZmZmRPArkfhehSuE8BmZmZmZmYUwLgehetRuBTAcD0K16NwF8DiehSuR+EawPYoXI/C9R7AmpmZmZmZIMDrUbgeheshwJqZmZmZmR/A61G4HoXrF8A+CtejcD0SwMP1KFyPwg3AwvUoXI/C/b/0KFyPwvXov40UrkfherQ/AgAAAAAA8D+kcD0K16MEQMP1KFyPwglANDMzMzMzB0BI4XoUrkcBQGdmZmZmZvY/WhSuR+F6pL89CtejcD36v65H4XoUrgPA9ihcj8L1CMDWo3A9CtcLwKRwPQrXowDAdhSuR+F61L+QwvUoXI/yPz4K16NwPfo/w/UoXI/CAUClcD0K16MAQM3MzMzMzPw/exSuR+F6/D+G61G4HoUDQAAAAAAAAAxA2KNwPQrXC0ABAAAAAAAIQFK4HoXrURBApHA9CtejEkAVrkfhehQOQOtRuB6F6wlA7FG4HoXrEUB7FK5H4XoQQCpcj8L1KBBArkfhehSuFUClcD0K16MaQO1RuB6F6xlAzczMzMzMGkA+CtejcD0YQMP1KFyPwhVA7FG4HoXrFUAAAAAAAAAWQOJ6FK5H4RZArkfhehSuH0A+CtejcD0hQFyPwvUoXCBA16NwPQrXIUDC9Shcj8IhQB6F61G4HiBASOF6FK5HIEBmZmZmZmYhQAAAAAAAACBAhetRuB6FH0CG61G4HoUdQEjhehSuRxtA2KNwPQrXGUAAAAAAAAAYQAvXo3A9ChVAKlyPwvUoEEDNzMzMzMwMQEjhehSuRw1AZmZmZmZmFkDWo3A9CtcdQOxRuB6F6yJASOF6FK5HJEDD9Shcj8IjQArXo3A9CiNAkML1KFyPIkCPwvUoXI8iQF2PwvUoXCRAMzMzMzMzJkC4HoXrUbgkQBSuR+F6FCNAwvUoXI/CIEBI4XoUrkcdQCpcj8L1KB5AXI/C9ShcIECamZmZmZkhQPYoXI/C9SNArkfhehSuJ0DD9Shcj8IoQBWuR+F6FCpAexSuR+F6KkBmZmZmZmYsQJqZmZmZmSxAFa5H4XoULUBwPQrXo3AsQD0K16NwPS1AAAAAAAAALUA+CtejcD0sQPYoXI/C9SlAexSuR+F6J0AVrkfhehQnQM3MzMzMzCZA4noUrkfhJkCF61G4HoUoQAAAAAAAAClAuB6F61G4KECuR+F6FK4nQML1KFyPwiZAUrgehetRJkDNzMzMzMwnQM3MzMzMzCdAZmZmZmZmKEAqXI/C9SgqQK5H4XoUritAKlyPwvUoK0BmZmZmZmYqQHoUrkfheilAcT0K16NwJ0CjcD0K16MlQOtRuB6F6yVAj8L1KFyPJkB6FK5H4XomQIXrUbgehSVAAAAAAAAAJkAAAAAAAAAnQArXo3A9CidAuR6F61G4JUAAAAAAAAAlQK5H4XoUriRAexSuR+F6I0AfhetRuB4iQBWuR+F6FCNAzczMzMzMJECuR+F6FK4kQNajcD0K1yRAwvUoXI/CJUDC9Shcj8IlQAAAAAAAACZAo3A9CtejJkCF61G4HoUoQOtRuB6F6ylAexSuR+F6KkCQwvUoXI8qQEjhehSuRypAUrgehetRKkATrkfhehQqQK5H4XoUripAkML1KFyPLED2KFyPwvUuQJDC9Shcjy9AKlyPwvWoMUAVrkfhehQyQB+F61G4njFAMzMzMzOzMUCamZmZmRkxQB6F61G4Hi5A61G4HoXrLUA9CtejcD0tQOtRuB6F6ytAMzMzMzMzK0AAAAAAAAArQCpcj8L1KCpACtejcD0KK0DrUbgehesqQM3MzMzMzCpAKlyPwvUoKkAK16NwPQoqQM3MzMzMzCpAZmZmZmZmK0AqXI/C9SgtQM3MzMzMzC5APQrXo3A9L0D2KFyPwvUtQD0K16NwPS5AzczMzMzMLUAghetRuB4uQHI9CtejcC9AUrgehetRL0DNzMzMzMwsQOJ6FK5H4SpAHoXrUbgeKEBSuB6F61EmQLgehetRuCZAZmZmZmZmJ0DrUbgehesmQHA9CtejcCZApHA9CtejJEBcj8L1KFwhQAAAAAAAACFAMzMzMzMzI0C4HoXrUbgkQAAAAAAAACdA4noUrkfhKEB7FK5H4XopQDMzMzMzMylAFa5H4XoUKkAqXI/C9SgqQK5H4XoUrilAKVyPwvUoJ0A+CtejcD0lQGZmZmZmZiRAmpmZmZmZI0C5HoXrUbgkQOtRuB6F6ydAHoXrUbgeKkDrUbgehesrQD0K16NwPStAMzMzMzMzKkAqXI/C9SgoQHE9CtejcCRAMzMzMzMzIEBI4XoUrkcfQHE9CtejcCBAXY/C9ShcHUC4HoXrUbgcQHA9CtejcB1AMzMzMzMzG0DXo3A9CtcXQK5H4XoUrhtArkfhehSuIECuR+F6FK4gQB6F61G4HiBAZmZmZmZmHkDWo3A9CtcbQCpcj8L1KBpAH4XrUbgeGUCamZmZmZkfQF2PwvUoXCNAFK5H4XoUJ0DWo3A9CtcoQAAAAAAAACtAMzMzMzMzK0CuR+F6FK4pQEjhehSuRyZApXA9CtejIUAK16NwPQofQGZmZmZmZhxAmpmZmZmZGUDiehSuR+EcQArXo3A9CiJAMzMzMzMzI0CPwvUoXI8hQEjhehSuRyBAehSuR+F6FkCamZmZmZkNQIXrUbgehQdAMzMzMzMzB0DiehSuR+EOQM3MzMzMzBJA4noUrkfhEkAzMzMzMzMRQPYoXI/C9QxAkML1KFyPCkBmZmZmZmYSQIXrUbgehRVAexSuR+F6GEC6HoXrUbgeQAvXo3A9Ch9APgrXo3A9HkAVrkfhehQeQM3MzMzMzB5AcT0K16NwGUCjcD0K16MUQEjhehSuRw1AKVyPwvUoAEAzMzMzMzPzPypcj8L1KOw/UrgehetR6D/NzMzMzMzsPwAAAAAAAPg/JlyPwvUozL8TrkfhehTuv4XrUbgeheu/9ihcj8L18L8+CtejcD3yv65H4XoUrvc/UrgehetRCEAzMzMzMzMPQHoUrkfhehZAhetRuB6FG0A9CtejcD0WQArXo3A9ChNAPQrXo3A9FEBSuB6F61ESQClcj8L1KBJASOF6FK5HFUAK16NwPQoXQDMzMzMzMw9AH4XrUbgeAUDWo3A9CtfjP7gehetRuM6/zczMzMzM9L/NzMzMzMz0vwAAAAAAAOC/uB6F61G4zj8+CtejcD3yPwAAAAAAAARAkML1KFyPEEABAAAAAAAUQK5H4XoUrhVAmpmZmZmZEUAK16NwPQoRQI/C9ShcjxBArkfhehSuD0DNzMzMzMwQQGZmZmZmZhZAFK5H4XoUGEBmZmZmZmYaQA==\",\"dtype\":\"float64\",\"order\":\"little\",\"shape\":[365]},\"index\":[0,1,2,3,4,5,6,7,8,9,10,11,12,13,14,15,16,17,18,19,20,21,22,23,24,25,26,27,28,29,30,31,32,33,34,35,36,37,38,39,40,41,42,43,44,45,46,47,48,49,50,51,52,53,54,55,56,57,58,59,60,61,62,63,64,65,66,67,68,69,70,71,72,73,74,75,76,77,78,79,80,81,82,83,84,85,86,87,88,89,90,91,92,93,94,95,96,97,98,99,100,101,102,103,104,105,106,107,108,109,110,111,112,113,114,115,116,117,118,119,120,121,122,123,124,125,126,127,128,129,130,131,132,133,134,135,136,137,138,139,140,141,142,143,144,145,146,147,148,149,150,151,152,153,154,155,156,157,158,159,160,161,162,163,164,165,166,167,168,169,170,171,172,173,174,175,176,177,178,179,180,181,182,183,184,185,186,187,188,189,190,191,192,193,194,195,196,197,198,199,200,201,202,203,204,205,206,207,208,209,210,211,212,213,214,215,216,217,218,219,220,221,222,223,224,225,226,227,228,229,230,231,232,233,234,235,236,237,238,239,240,241,242,243,244,245,246,247,248,249,250,251,252,253,254,255,256,257,258,259,260,261,262,263,264,265,266,267,268,269,270,271,272,273,274,275,276,277,278,279,280,281,282,283,284,285,286,287,288,289,290,291,292,293,294,295,296,297,298,299,300,301,302,303,304,305,306,307,308,309,310,311,312,313,314,315,316,317,318,319,320,321,322,323,324,325,326,327,328,329,330,331,332,333,334,335,336,337,338,339,340,341,342,343,344,345,346,347,348,349,350,351,352,353,354,355,356,357,358,359,360,361,362,363,364],\"station\":{\"__ndarray__\":\"DgEAAA4BAAAOAQAADgEAAA4BAAAOAQAADgEAAA4BAAAOAQAADgEAAA4BAAAOAQAADgEAAA4BAAAOAQAADgEAAA4BAAAOAQAADgEAAA4BAAAOAQAADgEAAA4BAAAOAQAADgEAAA4BAAAOAQAADgEAAA4BAAAOAQAADgEAAA4BAAAOAQAADgEAAA4BAAAOAQAADgEAAA4BAAAOAQAADgEAAA4BAAAOAQAADgEAAA4BAAAOAQAADgEAAA4BAAAOAQAADgEAAA4BAAAOAQAADgEAAA4BAAAOAQAADgEAAA4BAAAOAQAADgEAAA4BAAAOAQAADgEAAA4BAAAOAQAADgEAAA4BAAAOAQAADgEAAA4BAAAOAQAADgEAAA4BAAAOAQAADgEAAA4BAAAOAQAADgEAAA4BAAAOAQAADgEAAA4BAAAOAQAADgEAAA4BAAAOAQAADgEAAA4BAAAOAQAADgEAAA4BAAAOAQAADgEAAA4BAAAOAQAADgEAAA4BAAAOAQAADgEAAA4BAAAOAQAADgEAAA4BAAAOAQAADgEAAA4BAAAOAQAADgEAAA4BAAAOAQAADgEAAA4BAAAOAQAADgEAAA4BAAAOAQAADgEAAA4BAAAOAQAADgEAAA4BAAAOAQAADgEAAA4BAAAOAQAADgEAAA4BAAAOAQAADgEAAA4BAAAOAQAADgEAAA4BAAAOAQAADgEAAA4BAAAOAQAADgEAAA4BAAAOAQAADgEAAA4BAAAOAQAADgEAAA4BAAAOAQAADgEAAA4BAAAOAQAADgEAAA4BAAAOAQAADgEAAA4BAAAOAQAADgEAAA4BAAAOAQAADgEAAA4BAAAOAQAADgEAAA4BAAAOAQAADgEAAA4BAAAOAQAADgEAAA4BAAAOAQAADgEAAA4BAAAOAQAADgEAAA4BAAAOAQAADgEAAA4BAAAOAQAADgEAAA4BAAAOAQAADgEAAA4BAAAOAQAADgEAAA4BAAAOAQAADgEAAA4BAAAOAQAADgEAAA4BAAAOAQAADgEAAA4BAAAOAQAADgEAAA4BAAAOAQAADgEAAA4BAAAOAQAADgEAAA4BAAAOAQAADgEAAA4BAAAOAQAADgEAAA4BAAAOAQAADgEAAA4BAAAOAQAADgEAAA4BAAAOAQAADgEAAA4BAAAOAQAADgEAAA4BAAAOAQAADgEAAA4BAAAOAQAADgEAAA4BAAAOAQAADgEAAA4BAAAOAQAADgEAAA4BAAAOAQAADgEAAA4BAAAOAQAADgEAAA4BAAAOAQAADgEAAA4BAAAOAQAADgEAAA4BAAAOAQAADgEAAA4BAAAOAQAADgEAAA4BAAAOAQAADgEAAA4BAAAOAQAADgEAAA4BAAAOAQAADgEAAA4BAAAOAQAADgEAAA4BAAAOAQAADgEAAA4BAAAOAQAADgEAAA4BAAAOAQAADgEAAA4BAAAOAQAADgEAAA4BAAAOAQAADgEAAA4BAAAOAQAADgEAAA4BAAAOAQAADgEAAA4BAAAOAQAADgEAAA4BAAAOAQAADgEAAA4BAAAOAQAADgEAAA4BAAAOAQAADgEAAA4BAAAOAQAADgEAAA4BAAAOAQAADgEAAA4BAAAOAQAADgEAAA4BAAAOAQAADgEAAA4BAAAOAQAADgEAAA4BAAAOAQAADgEAAA4BAAAOAQAADgEAAA4BAAAOAQAADgEAAA4BAAAOAQAADgEAAA4BAAAOAQAADgEAAA4BAAAOAQAADgEAAA4BAAAOAQAADgEAAA4BAAAOAQAADgEAAA4BAAAOAQAADgEAAA4BAAAOAQAADgEAAA4BAAAOAQAADgEAAA4BAAAOAQAADgEAAA4BAAAOAQAADgEAAA4BAAAOAQAADgEAAA4BAAAOAQAADgEAAA4BAAAOAQAADgEAAA4BAAAOAQAADgEAAA4BAAAOAQAADgEAAA4BAAA=\",\"dtype\":\"int32\",\"order\":\"little\",\"shape\":[365]}},\"selected\":{\"id\":\"2175\"},\"selection_policy\":{\"id\":\"2174\"}},\"id\":\"2086\",\"type\":\"ColumnDataSource\"},{\"attributes\":{\"num_minor_ticks\":5,\"tickers\":[{\"id\":\"2135\"},{\"id\":\"2136\"},{\"id\":\"2137\"},{\"id\":\"2138\"},{\"id\":\"2139\"},{\"id\":\"2140\"},{\"id\":\"2141\"},{\"id\":\"2142\"},{\"id\":\"2143\"},{\"id\":\"2144\"},{\"id\":\"2145\"},{\"id\":\"2146\"}]},\"id\":\"2097\",\"type\":\"DatetimeTicker\"},{\"attributes\":{},\"id\":\"2090\",\"type\":\"DataRange1d\"},{\"attributes\":{\"base\":{\"field\":\"Date\"},\"coordinates\":null,\"fill_alpha\":1.0,\"group\":null,\"level\":\"underlay\",\"line_color\":\"black\",\"lower\":{\"field\":\"Tmin\"},\"source\":{\"id\":\"2086\"},\"upper\":{\"field\":\"Tmax\"}},\"id\":\"2149\",\"type\":\"Band\"},{\"attributes\":{\"coordinates\":null,\"formatter\":{\"id\":\"2130\"},\"group\":null,\"major_label_policy\":{\"id\":\"2131\"},\"ticker\":{\"id\":\"2097\"}},\"id\":\"2096\",\"type\":\"DatetimeAxis\"},{\"attributes\":{\"bottom_units\":\"screen\",\"coordinates\":null,\"fill_alpha\":0.5,\"fill_color\":\"lightgrey\",\"group\":null,\"left_units\":\"screen\",\"level\":\"overlay\",\"line_alpha\":1.0,\"line_color\":\"black\",\"line_dash\":[4,4],\"line_width\":2,\"right_units\":\"screen\",\"syncable\":false,\"top_units\":\"screen\"},\"id\":\"2110\",\"type\":\"BoxAnnotation\"},{\"attributes\":{\"coordinates\":null,\"group\":null,\"items\":[{\"id\":\"2148\"}]},\"id\":\"2147\",\"type\":\"Legend\"},{\"attributes\":{},\"id\":\"2127\",\"type\":\"BasicTickFormatter\"},{\"attributes\":{\"overlay\":{\"id\":\"2110\"}},\"id\":\"2106\",\"type\":\"BoxZoomTool\"},{\"attributes\":{},\"id\":\"2094\",\"type\":\"LinearScale\"},{\"attributes\":{},\"id\":\"2109\",\"type\":\"HelpTool\"},{\"attributes\":{},\"id\":\"2128\",\"type\":\"AllLabels\"},{\"attributes\":{},\"id\":\"2107\",\"type\":\"SaveTool\"},{\"attributes\":{},\"id\":\"2108\",\"type\":\"ResetTool\"},{\"attributes\":{\"mantissas\":[1,2,5],\"max_interval\":500.0,\"num_minor_ticks\":0},\"id\":\"2135\",\"type\":\"AdaptiveTicker\"},{\"attributes\":{},\"id\":\"2088\",\"type\":\"DataRange1d\"},{\"attributes\":{\"line_alpha\":0.5,\"line_color\":\"blue\",\"line_width\":2,\"x\":{\"field\":\"x\"},\"y\":{\"field\":\"y\"}},\"id\":\"2119\",\"type\":\"Line\"},{\"attributes\":{},\"id\":\"2092\",\"type\":\"LinearScale\"},{\"attributes\":{},\"id\":\"2101\",\"type\":\"BasicTicker\"},{\"attributes\":{},\"id\":\"2130\",\"type\":\"DatetimeTickFormatter\"},{\"attributes\":{\"source\":{\"id\":\"2118\"}},\"id\":\"2123\",\"type\":\"CDSView\"},{\"attributes\":{\"base\":60,\"mantissas\":[1,2,5,10,15,20,30],\"max_interval\":1800000.0,\"min_interval\":1000.0,\"num_minor_ticks\":0},\"id\":\"2136\",\"type\":\"AdaptiveTicker\"},{\"attributes\":{},\"id\":\"2174\",\"type\":\"UnionRenderers\"},{\"attributes\":{},\"id\":\"2104\",\"type\":\"PanTool\"},{\"attributes\":{\"coordinates\":null,\"formatter\":{\"id\":\"2127\"},\"group\":null,\"major_label_policy\":{\"id\":\"2128\"},\"ticker\":{\"id\":\"2101\"}},\"id\":\"2100\",\"type\":\"LinearAxis\"},{\"attributes\":{\"base\":24,\"mantissas\":[1,2,4,6,8,12],\"max_interval\":43200000.0,\"min_interval\":3600000.0,\"num_minor_ticks\":0},\"id\":\"2137\",\"type\":\"AdaptiveTicker\"},{\"attributes\":{},\"id\":\"2131\",\"type\":\"AllLabels\"},{\"attributes\":{},\"id\":\"2146\",\"type\":\"YearsTicker\"},{\"attributes\":{\"months\":[0,1,2,3,4,5,6,7,8,9,10,11]},\"id\":\"2142\",\"type\":\"MonthsTicker\"},{\"attributes\":{\"days\":[1,15]},\"id\":\"2141\",\"type\":\"DaysTicker\"},{\"attributes\":{\"days\":[1,2,3,4,5,6,7,8,9,10,11,12,13,14,15,16,17,18,19,20,21,22,23,24,25,26,27,28,29,30,31]},\"id\":\"2138\",\"type\":\"DaysTicker\"},{\"attributes\":{\"days\":[1,4,7,10,13,16,19,22,25,28]},\"id\":\"2139\",\"type\":\"DaysTicker\"},{\"attributes\":{},\"id\":\"2175\",\"type\":\"Selection\"},{\"attributes\":{\"days\":[1,8,15,22]},\"id\":\"2140\",\"type\":\"DaysTicker\"},{\"attributes\":{\"axis\":{\"id\":\"2100\"},\"coordinates\":null,\"dimension\":1,\"group\":null,\"ticker\":null},\"id\":\"2103\",\"type\":\"Grid\"},{\"attributes\":{\"months\":[0,6]},\"id\":\"2145\",\"type\":\"MonthsTicker\"},{\"attributes\":{\"axis\":{\"id\":\"2096\"},\"coordinates\":null,\"group\":null,\"ticker\":null},\"id\":\"2099\",\"type\":\"Grid\"},{\"attributes\":{\"months\":[0,2,4,6,8,10]},\"id\":\"2143\",\"type\":\"MonthsTicker\"},{\"attributes\":{},\"id\":\"2105\",\"type\":\"WheelZoomTool\"},{\"attributes\":{\"line_alpha\":0.2,\"line_color\":\"blue\",\"line_width\":2,\"x\":{\"field\":\"x\"},\"y\":{\"field\":\"y\"}},\"id\":\"2121\",\"type\":\"Line\"},{\"attributes\":{\"coordinates\":null,\"data_source\":{\"id\":\"2118\"},\"glyph\":{\"id\":\"2119\"},\"group\":null,\"hover_glyph\":null,\"muted_glyph\":{\"id\":\"2121\"},\"nonselection_glyph\":{\"id\":\"2120\"},\"view\":{\"id\":\"2123\"}},\"id\":\"2122\",\"type\":\"GlyphRenderer\"},{\"attributes\":{\"months\":[0,4,8]},\"id\":\"2144\",\"type\":\"MonthsTicker\"},{\"attributes\":{\"label\":{\"value\":\"Tmean\"},\"renderers\":[{\"id\":\"2122\"}]},\"id\":\"2148\",\"type\":\"LegendItem\"},{\"attributes\":{},\"id\":\"2132\",\"type\":\"UnionRenderers\"},{\"attributes\":{\"line_alpha\":0.1,\"line_color\":\"blue\",\"line_width\":2,\"x\":{\"field\":\"x\"},\"y\":{\"field\":\"y\"}},\"id\":\"2120\",\"type\":\"Line\"},{\"attributes\":{\"coordinates\":null,\"group\":null},\"id\":\"2124\",\"type\":\"Title\"},{\"attributes\":{},\"id\":\"2133\",\"type\":\"Selection\"},{\"attributes\":{\"tools\":[{\"id\":\"2104\"},{\"id\":\"2105\"},{\"id\":\"2106\"},{\"id\":\"2107\"},{\"id\":\"2108\"},{\"id\":\"2109\"}]},\"id\":\"2111\",\"type\":\"Toolbar\"},{\"attributes\":{\"data\":{\"x\":{\"__ndarray__\":\"AAAASfAKdkIAAMCuQgt2QgAAgBSVC3ZCAABAeucLdkIAAADgOQx2QgAAwEWMDHZCAACAq94MdkIAAEARMQ12QgAAAHeDDXZCAADA3NUNdkIAAIBCKA52QgAAQKh6DnZCAAAADs0OdkIAAMBzHw92QgAAgNlxD3ZCAABAP8QPdkIAAAClFhB2QgAAwAppEHZCAACAcLsQdkIAAEDWDRF2QgAAADxgEXZCAADAobIRdkIAAIAHBRJ2QgAAQG1XEnZCAAAA06kSdkIAAMA4/BJ2QgAAgJ5OE3ZCAABABKETdkIAAABq8xN2QgAAwM9FFHZCAACANZgUdkIAAECb6hR2QgAAAAE9FXZCAADAZo8VdkIAAIDM4RV2QgAAQDI0FnZCAAAAmIYWdkIAAMD92BZ2QgAAgGMrF3ZCAABAyX0XdkIAAAAv0Bd2QgAAwJQiGHZCAACA+nQYdkIAAEBgxxh2QgAAAMYZGXZCAADAK2wZdkIAAICRvhl2QgAAQPcQGnZCAAAAXWMadkIAAMDCtRp2QgAAgCgIG3ZCAABAjlobdkIAAAD0rBt2QgAAwFn/G3ZCAACAv1EcdkIAAEAlpBx2QgAAAIv2HHZCAADA8EgddkIAAIBWmx12QgAAQLztHXZCAAAAIkAedkIAAMCHkh52QgAAgO3kHnZCAABAUzcfdkIAAAC5iR92QgAAwB7cH3ZCAACAhC4gdkIAAEDqgCB2QgAAAFDTIHZCAADAtSUhdkIAAIAbeCF2QgAAQIHKIXZCAAAA5xwidkIAAMBMbyJ2QgAAgLLBInZCAABAGBQjdkIAAAB+ZiN2QgAAwOO4I3ZCAACASQskdkIAAECvXSR2QgAAABWwJHZCAADAegIldkIAAIDgVCV2QgAAQEanJXZCAAAArPkldkIAAMARTCZ2QgAAgHeeJnZCAABA3fAmdkIAAABDQyd2QgAAwKiVJ3ZCAACADugndkIAAEB0Oih2QgAAANqMKHZCAADAP98odkIAAIClMSl2QgAAQAuEKXZCAAAAcdYpdkIAAMDWKCp2QgAAgDx7KnZCAABAos0qdkIAAAAIICt2QgAAwG1yK3ZCAACA08QrdkIAAEA5Fyx2QgAAAJ9pLHZCAADABLwsdkIAAIBqDi12QgAAQNBgLXZCAAAANrMtdkIAAMCbBS52QgAAgAFYLnZCAABAZ6oudkIAAADN/C52QgAAwDJPL3ZCAACAmKEvdkIAAED+8y92QgAAAGRGMHZCAADAyZgwdkIAAIAv6zB2QgAAQJU9MXZCAAAA+48xdkIAAMBg4jF2QgAAgMY0MnZCAABALIcydkIAAACS2TJ2QgAAwPcrM3ZCAACAXX4zdkIAAEDD0DN2QgAAACkjNHZCAADAjnU0dkIAAID0xzR2QgAAQFoaNXZCAAAAwGw1dkIAAMAlvzV2QgAAgIsRNnZCAABA8WM2dkIAAABXtjZ2QgAAwLwIN3ZCAACAIls3dkIAAECIrTd2QgAAAO7/N3ZCAADAU1I4dkIAAIC5pDh2QgAAQB/3OHZCAAAAhUk5dkIAAMDqmzl2QgAAgFDuOXZCAABAtkA6dkIAAAAckzp2QgAAwIHlOnZCAACA5zc7dkIAAEBNijt2QgAAALPcO3ZCAADAGC88dkIAAIB+gTx2QgAAQOTTPHZCAAAASiY9dkIAAMCveD12QgAAgBXLPXZCAABAex0+dkIAAADhbz52QgAAwEbCPnZCAACArBQ/dkIAAEASZz92QgAAAHi5P3ZCAADA3QtAdkIAAIBDXkB2QgAAQKmwQHZCAAAADwNBdkIAAMB0VUF2QgAAgNqnQXZCAABAQPpBdkIAAACmTEJ2QgAAwAufQnZCAACAcfFCdkIAAEDXQ0N2QgAAAD2WQ3ZCAADAouhDdkIAAIAIO0R2QgAAQG6NRHZCAAAA1N9EdkIAAMA5MkV2QgAAgJ+ERXZCAABABddFdkIAAABrKUZ2QgAAwNB7RnZCAACANs5GdkIAAECcIEd2QgAAAAJzR3ZCAADAZ8VHdkIAAIDNF0h2QgAAQDNqSHZCAAAAmbxIdkIAAMD+Dkl2QgAAgGRhSXZCAABAyrNJdkIAAAAwBkp2QgAAwJVYSnZCAACA+6pKdkIAAEBh/Up2QgAAAMdPS3ZCAADALKJLdkIAAICS9Et2QgAAQPhGTHZCAAAAXplMdkIAAMDD60x2QgAAgCk+TXZCAABAj5BNdkIAAAD14k12QgAAwFo1TnZCAACAwIdOdkIAAEAm2k52QgAAAIwsT3ZCAADA8X5PdkIAAIBX0U92QgAAQL0jUHZCAAAAI3ZQdkIAAMCIyFB2QgAAgO4aUXZCAABAVG1RdkIAAAC6v1F2QgAAwB8SUnZCAACAhWRSdkIAAEDrtlJ2QgAAAFEJU3ZCAADAtltTdkIAAIAcrlN2QgAAQIIAVHZCAAAA6FJUdkIAAMBNpVR2QgAAgLP3VHZCAABAGUpVdkIAAAB/nFV2QgAAwOTuVXZCAACASkFWdkIAAECwk1Z2QgAAABbmVnZCAADAezhXdkIAAIDhild2QgAAQEfdV3ZCAAAArS9YdkIAAMASglh2QgAAgHjUWHZCAABA3iZZdkIAAABEeVl2QgAAwKnLWXZCAACADx5adkIAAEB1cFp2QgAAANvCWnZCAADAQBVbdkIAAICmZ1t2QgAAQAy6W3ZCAAAAcgxcdkIAAMDXXlx2QgAAgD2xXHZCAABAowNddkIAAAAJVl12QgAAwG6oXXZCAACA1PpddkIAAEA6TV52QgAAAKCfXnZCAADABfJedkIAAIBrRF92QgAAQNGWX3ZCAAAAN+lfdkIAAMCcO2B2QgAAgAKOYHZCAABAaOBgdkIAAADOMmF2QgAAwDOFYXZCAACAmddhdkIAAED/KWJ2QgAAAGV8YnZCAADAys5idkIAAIAwIWN2QgAAQJZzY3ZCAAAA/MVjdkIAAMBhGGR2QgAAgMdqZHZCAABALb1kdkIAAACTD2V2QgAAwPhhZXZCAACAXrRldkIAAEDEBmZ2QgAAACpZZnZCAADAj6tmdkIAAID1/WZ2QgAAQFtQZ3ZCAAAAwaJndkIAAMAm9Wd2QgAAgIxHaHZCAABA8plodkIAAABY7Gh2QgAAwL0+aXZCAACAI5FpdkIAAECJ42l2QgAAAO81anZCAADAVIhqdkIAAIC62mp2QgAAQCAta3ZCAAAAhn9rdkIAAMDr0Wt2QgAAgFEkbHZCAABAt3ZsdkIAAAAdyWx2QgAAwIIbbXZCAACA6G1tdkIAAEBOwG12QgAAALQSbnZCAADAGWVudkIAAIB/t252QgAAQOUJb3ZCAAAAS1xvdkIAAMCwrm92QgAAgBYBcHZCAABAfFNwdkIAAADipXB2QgAAwEf4cHZCAACArUpxdkIAAEATnXF2QgAAAHnvcXZCAADA3kFydkIAAIBElHJ2QgAAQKrmcnZCAAAAEDlzdkIAAMB1i3N2QgAAgNvdc3ZCAABAQTB0dkIAAACngnR2QgAAwAzVdHZCAACAcid1dkIAAEDYeXV2QgAAAD7MdXZCAADAox52dkIAAIAJcXZ2QgAAQG/DdnZCAAAA1RV3dkIAAMA6aHd2QgAAgKC6d3ZCAABABg14dkIAAABsX3h2QgAAwNGxeHZCAACANwR5dkIAAECdVnl2QgAAAAOpeXZCAADAaPt5dkIAAIDOTXp2QgAAQDSgenZCAAAAmvJ6dkIAAMD/RHt2QgAAgGWXe3ZCAABAy+l7dkIAAAAxPHx2QgAAwJaOfHZCAACA/OB8dkIAAEBiM312QgAAAMiFfXZCAADALdh9dkIAAICTKn52QgAAQPl8fnZCAAAAX89+dkIAAMDEIX92QgAAgCp0f3ZCAABAkMZ/dkIAAAD2GIB2Qg==\",\"dtype\":\"float64\",\"order\":\"little\",\"shape\":[365]},\"y\":{\"__ndarray__\":\"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\",\"dtype\":\"float64\",\"order\":\"little\",\"shape\":[365]}},\"selected\":{\"id\":\"2133\"},\"selection_policy\":{\"id\":\"2132\"}},\"id\":\"2118\",\"type\":\"ColumnDataSource\"}],\"root_ids\":[\"2087\"]},\"title\":\"Bokeh Application\",\"version\":\"2.4.3\"}};\n  const render_items = [{\"docid\":\"af255ed0-e44e-4c3d-b758-3484c6bea772\",\"root_ids\":[\"2087\"],\"roots\":{\"2087\":\"f305e095-5b0d-4b2d-a2c3-5ec858fb9129\"}}];\n  root.Bokeh.embed.embed_items_notebook(docs_json, render_items);\n  }\n  if (root.Bokeh !== undefined) {\n    embed_document(root);\n  } else {\n    let attempts = 0;\n    const timer = setInterval(function(root) {\n      if (root.Bokeh !== undefined) {\n        clearInterval(timer);\n        embed_document(root);\n      } else {\n        attempts++;\n        if (attempts > 100) {\n          clearInterval(timer);\n          console.log(\"Bokeh: ERROR: Unable to run BokehJS code because BokehJS library is missing\");\n        }\n      }\n    }, 10, root)\n  }\n})(window);",
      "application/vnd.bokehjs_exec.v0+json": ""
     },
     "metadata": {
      "application/vnd.bokehjs_exec.v0+json": {
       "id": "2087"
      }
     },
     "output_type": "display_data"
    }
   ],
   "source": [
    "from bokeh.plotting import figure, output_file, show\n",
    "from bokeh.models import Range1d\n",
    "from bokeh.models import Band, ColumnDataSource\n",
    "import panel as pn\n",
    "pn.extension()\n",
    "def drawPlot():\n",
    "    source = ColumnDataSource(df.reset_index())\n",
    "    p = figure(sizing_mode=\"stretch_width\",toolbar_location=\"below\" ,x_axis_type=\"datetime\")\n",
    "    p.line(df.index, df[\"Tmean\"],legend_label=\"Tmean\", line_width=2, color=\"blue\", alpha=0.5)\n",
    "    p.legend.location = \"top_right\"\n",
    "\n",
    "    band = Band(base='Date', lower='Tmin', upper='Tmax', source=source, level='underlay',\n",
    "            fill_alpha=1.0, line_width=1, line_color='black')\n",
    "    p.add_layout(band)\n",
    "\n",
    "\n",
    "    show(p)\n",
    "drawPlot()"
   ]
  },
  {
   "cell_type": "markdown",
   "metadata": {},
   "source": [
    "<a name='5'></a>\n",
    "## Part 6: Challenge"
   ]
  },
  {
   "cell_type": "markdown",
   "metadata": {},
   "source": [
    "Make a widget in which you can select the year range for the multiyear set. Or maybe a widget were you choose a different station. Add this to your layout to make the plot interactive. Add another widget to select or deselect the smoother. Inspiration: https://demo.bokeh.org/weather"
   ]
  },
  {
   "cell_type": "code",
   "execution_count": null,
   "metadata": {},
   "outputs": [],
   "source": []
  }
 ],
 "metadata": {
  "kernelspec": {
   "display_name": "base",
   "language": "python",
   "name": "python3"
  },
  "language_info": {
   "codemirror_mode": {
    "name": "ipython",
    "version": 3
   },
   "file_extension": ".py",
   "mimetype": "text/x-python",
   "name": "python",
   "nbconvert_exporter": "python",
   "pygments_lexer": "ipython3",
   "version": "3.9.13"
  },
  "vscode": {
   "interpreter": {
    "hash": "4f9a25c63db83cc4ed034882c5433d208489be4d91ed1a16d308e5a4094e269c"
   }
  }
 },
 "nbformat": 4,
 "nbformat_minor": 2
}
